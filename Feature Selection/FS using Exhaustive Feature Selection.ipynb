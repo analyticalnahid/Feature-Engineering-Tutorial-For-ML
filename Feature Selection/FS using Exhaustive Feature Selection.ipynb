{
 "cells": [
  {
   "cell_type": "code",
   "execution_count": 1,
   "id": "4bc9eac5",
   "metadata": {
    "ExecuteTime": {
     "end_time": "2022-05-24T07:27:47.530356Z",
     "start_time": "2022-05-24T07:27:47.004378Z"
    }
   },
   "outputs": [],
   "source": [
    "import numpy as np\n",
    "import pandas as pd"
   ]
  },
  {
   "cell_type": "code",
   "execution_count": 2,
   "id": "5b0728d7",
   "metadata": {
    "ExecuteTime": {
     "end_time": "2022-05-24T07:27:47.555038Z",
     "start_time": "2022-05-24T07:27:47.532507Z"
    }
   },
   "outputs": [
    {
     "data": {
      "text/plain": [
       "PassengerId      0\n",
       "Survived         0\n",
       "Pclass           0\n",
       "Name             0\n",
       "Sex              0\n",
       "Age            177\n",
       "SibSp            0\n",
       "Parch            0\n",
       "Ticket           0\n",
       "Fare             0\n",
       "Cabin          687\n",
       "Embarked         2\n",
       "dtype: int64"
      ]
     },
     "execution_count": 2,
     "metadata": {},
     "output_type": "execute_result"
    }
   ],
   "source": [
    "df = pd.read_csv('train.csv')\n",
    "df.isnull().sum()"
   ]
  },
  {
   "cell_type": "code",
   "execution_count": 3,
   "id": "fcee1449",
   "metadata": {
    "ExecuteTime": {
     "end_time": "2022-05-24T07:27:48.288742Z",
     "start_time": "2022-05-24T07:27:48.273283Z"
    }
   },
   "outputs": [],
   "source": [
    "df['Family'] = df['SibSp']+df['Parch']"
   ]
  },
  {
   "cell_type": "code",
   "execution_count": 4,
   "id": "033e62a5",
   "metadata": {
    "ExecuteTime": {
     "end_time": "2022-05-24T07:27:50.905806Z",
     "start_time": "2022-05-24T07:27:50.884851Z"
    }
   },
   "outputs": [],
   "source": [
    "df.drop(columns=['Ticket','Name','Cabin','Fare'], inplace=True)"
   ]
  },
  {
   "cell_type": "code",
   "execution_count": 5,
   "id": "f6ceda8f",
   "metadata": {
    "ExecuteTime": {
     "end_time": "2022-05-24T07:27:51.645865Z",
     "start_time": "2022-05-24T07:27:51.617635Z"
    }
   },
   "outputs": [],
   "source": [
    "ordinal_label = {k: i for i, k in enumerate(df['Sex'].unique(), 0)}\n",
    "df['Sex'] = df['Sex'].map(ordinal_label)\n",
    "\n",
    "ordinal_label = {k: i for i, k in enumerate(df['Embarked'].unique(), 0)}\n",
    "df['Embarked'] = df['Embarked'].map(ordinal_label)"
   ]
  },
  {
   "cell_type": "code",
   "execution_count": 6,
   "id": "dd120792",
   "metadata": {
    "ExecuteTime": {
     "end_time": "2022-05-24T07:27:52.460731Z",
     "start_time": "2022-05-24T07:27:52.432643Z"
    }
   },
   "outputs": [],
   "source": [
    "df.dropna(inplace=True)"
   ]
  },
  {
   "cell_type": "code",
   "execution_count": 7,
   "id": "e06888c1",
   "metadata": {
    "ExecuteTime": {
     "end_time": "2022-05-24T07:27:54.068412Z",
     "start_time": "2022-05-24T07:27:54.020410Z"
    },
    "scrolled": true
   },
   "outputs": [
    {
     "data": {
      "text/html": [
       "<div>\n",
       "<style scoped>\n",
       "    .dataframe tbody tr th:only-of-type {\n",
       "        vertical-align: middle;\n",
       "    }\n",
       "\n",
       "    .dataframe tbody tr th {\n",
       "        vertical-align: top;\n",
       "    }\n",
       "\n",
       "    .dataframe thead th {\n",
       "        text-align: right;\n",
       "    }\n",
       "</style>\n",
       "<table border=\"1\" class=\"dataframe\">\n",
       "  <thead>\n",
       "    <tr style=\"text-align: right;\">\n",
       "      <th></th>\n",
       "      <th>PassengerId</th>\n",
       "      <th>Survived</th>\n",
       "      <th>Pclass</th>\n",
       "      <th>Sex</th>\n",
       "      <th>Age</th>\n",
       "      <th>SibSp</th>\n",
       "      <th>Parch</th>\n",
       "      <th>Embarked</th>\n",
       "      <th>Family</th>\n",
       "    </tr>\n",
       "  </thead>\n",
       "  <tbody>\n",
       "    <tr>\n",
       "      <th>0</th>\n",
       "      <td>1</td>\n",
       "      <td>0</td>\n",
       "      <td>3</td>\n",
       "      <td>0</td>\n",
       "      <td>22.0</td>\n",
       "      <td>1</td>\n",
       "      <td>0</td>\n",
       "      <td>0</td>\n",
       "      <td>1</td>\n",
       "    </tr>\n",
       "    <tr>\n",
       "      <th>1</th>\n",
       "      <td>2</td>\n",
       "      <td>1</td>\n",
       "      <td>1</td>\n",
       "      <td>1</td>\n",
       "      <td>38.0</td>\n",
       "      <td>1</td>\n",
       "      <td>0</td>\n",
       "      <td>1</td>\n",
       "      <td>1</td>\n",
       "    </tr>\n",
       "    <tr>\n",
       "      <th>2</th>\n",
       "      <td>3</td>\n",
       "      <td>1</td>\n",
       "      <td>3</td>\n",
       "      <td>1</td>\n",
       "      <td>26.0</td>\n",
       "      <td>0</td>\n",
       "      <td>0</td>\n",
       "      <td>0</td>\n",
       "      <td>0</td>\n",
       "    </tr>\n",
       "    <tr>\n",
       "      <th>3</th>\n",
       "      <td>4</td>\n",
       "      <td>1</td>\n",
       "      <td>1</td>\n",
       "      <td>1</td>\n",
       "      <td>35.0</td>\n",
       "      <td>1</td>\n",
       "      <td>0</td>\n",
       "      <td>0</td>\n",
       "      <td>1</td>\n",
       "    </tr>\n",
       "    <tr>\n",
       "      <th>4</th>\n",
       "      <td>5</td>\n",
       "      <td>0</td>\n",
       "      <td>3</td>\n",
       "      <td>0</td>\n",
       "      <td>35.0</td>\n",
       "      <td>0</td>\n",
       "      <td>0</td>\n",
       "      <td>0</td>\n",
       "      <td>0</td>\n",
       "    </tr>\n",
       "  </tbody>\n",
       "</table>\n",
       "</div>"
      ],
      "text/plain": [
       "   PassengerId  Survived  Pclass  Sex   Age  SibSp  Parch  Embarked  Family\n",
       "0            1         0       3    0  22.0      1      0         0       1\n",
       "1            2         1       1    1  38.0      1      0         1       1\n",
       "2            3         1       3    1  26.0      0      0         0       0\n",
       "3            4         1       1    1  35.0      1      0         0       1\n",
       "4            5         0       3    0  35.0      0      0         0       0"
      ]
     },
     "execution_count": 7,
     "metadata": {},
     "output_type": "execute_result"
    }
   ],
   "source": [
    "df.head()"
   ]
  },
  {
   "cell_type": "code",
   "execution_count": 8,
   "id": "3e51ac33",
   "metadata": {
    "ExecuteTime": {
     "end_time": "2022-05-24T07:27:54.808916Z",
     "start_time": "2022-05-24T07:27:54.789640Z"
    }
   },
   "outputs": [],
   "source": [
    "X = df.drop(columns='Survived')\n",
    "y = df['Survived']"
   ]
  },
  {
   "cell_type": "code",
   "execution_count": 9,
   "id": "cb81f466",
   "metadata": {
    "ExecuteTime": {
     "end_time": "2022-05-24T07:27:57.071983Z",
     "start_time": "2022-05-24T07:27:56.601690Z"
    }
   },
   "outputs": [],
   "source": [
    "from sklearn.model_selection import train_test_split\n",
    "X_train,X_test,y_train,y_test = train_test_split(X,y,test_size=0.3)"
   ]
  },
  {
   "cell_type": "code",
   "execution_count": 10,
   "id": "5c00fec6",
   "metadata": {
    "ExecuteTime": {
     "end_time": "2022-05-24T07:27:59.118498Z",
     "start_time": "2022-05-24T07:27:58.914467Z"
    }
   },
   "outputs": [],
   "source": [
    "# import the algorithm you want to evaluate on your features.\n",
    "from mlxtend.feature_selection import ExhaustiveFeatureSelector\n",
    "from sklearn.ensemble import RandomForestClassifier\n",
    "from sklearn.metrics import accuracy_score"
   ]
  },
  {
   "cell_type": "code",
   "execution_count": 21,
   "id": "b75903db",
   "metadata": {
    "ExecuteTime": {
     "end_time": "2022-05-24T07:34:14.454811Z",
     "start_time": "2022-05-24T07:34:14.434641Z"
    }
   },
   "outputs": [],
   "source": [
    "# create the ExhaustiveFeatureSelector object.\n",
    "efs = ExhaustiveFeatureSelector(RandomForestClassifier(),\n",
    "min_features=4,\n",
    "max_features=5,\n",
    "scoring='accuracy',\n",
    "n_jobs=1,                                                               \n",
    "cv=2)"
   ]
  },
  {
   "cell_type": "code",
   "execution_count": 22,
   "id": "90ac8021",
   "metadata": {
    "ExecuteTime": {
     "end_time": "2022-05-24T07:34:48.174510Z",
     "start_time": "2022-05-24T07:34:14.833194Z"
    }
   },
   "outputs": [
    {
     "name": "stderr",
     "output_type": "stream",
     "text": [
      "Features: 126/126"
     ]
    }
   ],
   "source": [
    "# fit the object to the training data.\n",
    "efs = efs.fit(X_train, y_train)"
   ]
  },
  {
   "cell_type": "code",
   "execution_count": 23,
   "id": "9be2b867",
   "metadata": {
    "ExecuteTime": {
     "end_time": "2022-05-24T07:34:48.180141Z",
     "start_time": "2022-05-24T07:34:48.176709Z"
    }
   },
   "outputs": [
    {
     "name": "stdout",
     "output_type": "stream",
     "text": [
      "['Pclass', 'Sex', 'Age', 'SibSp', 'Family']\n"
     ]
    }
   ],
   "source": [
    "# print the selected features.\n",
    "selected_features = list(efs.best_feature_names_)\n",
    "print(selected_features)"
   ]
  }
 ],
 "metadata": {
  "kernelspec": {
   "display_name": "Python 3 (ipykernel)",
   "language": "python",
   "name": "python3"
  },
  "language_info": {
   "codemirror_mode": {
    "name": "ipython",
    "version": 3
   },
   "file_extension": ".py",
   "mimetype": "text/x-python",
   "name": "python",
   "nbconvert_exporter": "python",
   "pygments_lexer": "ipython3",
   "version": "3.8.10"
  },
  "toc": {
   "base_numbering": 1,
   "nav_menu": {},
   "number_sections": true,
   "sideBar": true,
   "skip_h1_title": false,
   "title_cell": "Table of Contents",
   "title_sidebar": "Contents",
   "toc_cell": false,
   "toc_position": {},
   "toc_section_display": true,
   "toc_window_display": false
  }
 },
 "nbformat": 4,
 "nbformat_minor": 5
}
