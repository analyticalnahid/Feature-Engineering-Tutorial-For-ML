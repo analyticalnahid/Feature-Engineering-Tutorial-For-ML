{
 "cells": [
  {
   "cell_type": "code",
   "execution_count": 1,
   "id": "d397a1a9",
   "metadata": {
    "ExecuteTime": {
     "end_time": "2022-05-24T07:40:14.672136Z",
     "start_time": "2022-05-24T07:40:14.280268Z"
    }
   },
   "outputs": [],
   "source": [
    "import numpy as np\n",
    "import pandas as pd"
   ]
  },
  {
   "cell_type": "code",
   "execution_count": 2,
   "id": "03a7b32f",
   "metadata": {
    "ExecuteTime": {
     "end_time": "2022-05-24T07:40:14.696685Z",
     "start_time": "2022-05-24T07:40:14.674232Z"
    }
   },
   "outputs": [
    {
     "data": {
      "text/plain": [
       "PassengerId      0\n",
       "Survived         0\n",
       "Pclass           0\n",
       "Name             0\n",
       "Sex              0\n",
       "Age            177\n",
       "SibSp            0\n",
       "Parch            0\n",
       "Ticket           0\n",
       "Fare             0\n",
       "Cabin          687\n",
       "Embarked         2\n",
       "dtype: int64"
      ]
     },
     "execution_count": 2,
     "metadata": {},
     "output_type": "execute_result"
    }
   ],
   "source": [
    "df = pd.read_csv('train.csv')\n",
    "df.isnull().sum()"
   ]
  },
  {
   "cell_type": "code",
   "execution_count": 3,
   "id": "ab1dde82",
   "metadata": {
    "ExecuteTime": {
     "end_time": "2022-05-24T07:40:15.710120Z",
     "start_time": "2022-05-24T07:40:15.692608Z"
    }
   },
   "outputs": [],
   "source": [
    "df['Family'] = df['SibSp']+df['Parch']"
   ]
  },
  {
   "cell_type": "code",
   "execution_count": 4,
   "id": "0aac02f7",
   "metadata": {
    "ExecuteTime": {
     "end_time": "2022-05-24T07:40:17.635630Z",
     "start_time": "2022-05-24T07:40:17.616513Z"
    }
   },
   "outputs": [],
   "source": [
    "df.drop(columns=['Ticket','Name','Cabin','Fare'], inplace=True)"
   ]
  },
  {
   "cell_type": "code",
   "execution_count": 5,
   "id": "8a571c99",
   "metadata": {
    "ExecuteTime": {
     "end_time": "2022-05-24T07:40:18.242966Z",
     "start_time": "2022-05-24T07:40:18.203022Z"
    }
   },
   "outputs": [],
   "source": [
    "ordinal_label = {k: i for i, k in enumerate(df['Sex'].unique(), 0)}\n",
    "df['Sex'] = df['Sex'].map(ordinal_label)\n",
    "\n",
    "ordinal_label = {k: i for i, k in enumerate(df['Embarked'].unique(), 0)}\n",
    "df['Embarked'] = df['Embarked'].map(ordinal_label)"
   ]
  },
  {
   "cell_type": "code",
   "execution_count": 6,
   "id": "d2f407a4",
   "metadata": {
    "ExecuteTime": {
     "end_time": "2022-05-24T07:40:20.040276Z",
     "start_time": "2022-05-24T07:40:20.017335Z"
    }
   },
   "outputs": [],
   "source": [
    "df.dropna(inplace=True)"
   ]
  },
  {
   "cell_type": "code",
   "execution_count": 7,
   "id": "4816cf22",
   "metadata": {
    "ExecuteTime": {
     "end_time": "2022-05-24T07:40:20.788177Z",
     "start_time": "2022-05-24T07:40:20.738927Z"
    }
   },
   "outputs": [
    {
     "data": {
      "text/html": [
       "<div>\n",
       "<style scoped>\n",
       "    .dataframe tbody tr th:only-of-type {\n",
       "        vertical-align: middle;\n",
       "    }\n",
       "\n",
       "    .dataframe tbody tr th {\n",
       "        vertical-align: top;\n",
       "    }\n",
       "\n",
       "    .dataframe thead th {\n",
       "        text-align: right;\n",
       "    }\n",
       "</style>\n",
       "<table border=\"1\" class=\"dataframe\">\n",
       "  <thead>\n",
       "    <tr style=\"text-align: right;\">\n",
       "      <th></th>\n",
       "      <th>PassengerId</th>\n",
       "      <th>Survived</th>\n",
       "      <th>Pclass</th>\n",
       "      <th>Sex</th>\n",
       "      <th>Age</th>\n",
       "      <th>SibSp</th>\n",
       "      <th>Parch</th>\n",
       "      <th>Embarked</th>\n",
       "      <th>Family</th>\n",
       "    </tr>\n",
       "  </thead>\n",
       "  <tbody>\n",
       "    <tr>\n",
       "      <th>0</th>\n",
       "      <td>1</td>\n",
       "      <td>0</td>\n",
       "      <td>3</td>\n",
       "      <td>0</td>\n",
       "      <td>22.0</td>\n",
       "      <td>1</td>\n",
       "      <td>0</td>\n",
       "      <td>0</td>\n",
       "      <td>1</td>\n",
       "    </tr>\n",
       "    <tr>\n",
       "      <th>1</th>\n",
       "      <td>2</td>\n",
       "      <td>1</td>\n",
       "      <td>1</td>\n",
       "      <td>1</td>\n",
       "      <td>38.0</td>\n",
       "      <td>1</td>\n",
       "      <td>0</td>\n",
       "      <td>1</td>\n",
       "      <td>1</td>\n",
       "    </tr>\n",
       "    <tr>\n",
       "      <th>2</th>\n",
       "      <td>3</td>\n",
       "      <td>1</td>\n",
       "      <td>3</td>\n",
       "      <td>1</td>\n",
       "      <td>26.0</td>\n",
       "      <td>0</td>\n",
       "      <td>0</td>\n",
       "      <td>0</td>\n",
       "      <td>0</td>\n",
       "    </tr>\n",
       "    <tr>\n",
       "      <th>3</th>\n",
       "      <td>4</td>\n",
       "      <td>1</td>\n",
       "      <td>1</td>\n",
       "      <td>1</td>\n",
       "      <td>35.0</td>\n",
       "      <td>1</td>\n",
       "      <td>0</td>\n",
       "      <td>0</td>\n",
       "      <td>1</td>\n",
       "    </tr>\n",
       "    <tr>\n",
       "      <th>4</th>\n",
       "      <td>5</td>\n",
       "      <td>0</td>\n",
       "      <td>3</td>\n",
       "      <td>0</td>\n",
       "      <td>35.0</td>\n",
       "      <td>0</td>\n",
       "      <td>0</td>\n",
       "      <td>0</td>\n",
       "      <td>0</td>\n",
       "    </tr>\n",
       "  </tbody>\n",
       "</table>\n",
       "</div>"
      ],
      "text/plain": [
       "   PassengerId  Survived  Pclass  Sex   Age  SibSp  Parch  Embarked  Family\n",
       "0            1         0       3    0  22.0      1      0         0       1\n",
       "1            2         1       1    1  38.0      1      0         1       1\n",
       "2            3         1       3    1  26.0      0      0         0       0\n",
       "3            4         1       1    1  35.0      1      0         0       1\n",
       "4            5         0       3    0  35.0      0      0         0       0"
      ]
     },
     "execution_count": 7,
     "metadata": {},
     "output_type": "execute_result"
    }
   ],
   "source": [
    "df.head()"
   ]
  },
  {
   "cell_type": "code",
   "execution_count": 8,
   "id": "1d429bab",
   "metadata": {
    "ExecuteTime": {
     "end_time": "2022-05-24T07:40:23.912985Z",
     "start_time": "2022-05-24T07:40:23.895623Z"
    }
   },
   "outputs": [],
   "source": [
    "X = df.drop(columns='Survived')\n",
    "y = df['Survived']"
   ]
  },
  {
   "cell_type": "code",
   "execution_count": 9,
   "id": "d5af8f20",
   "metadata": {
    "ExecuteTime": {
     "end_time": "2022-05-24T07:40:25.976870Z",
     "start_time": "2022-05-24T07:40:25.959918Z"
    }
   },
   "outputs": [],
   "source": [
    "from sklearn.model_selection import train_test_split\n",
    "X_train,X_test,y_train,y_test = train_test_split(X,y,test_size=0.3)"
   ]
  },
  {
   "cell_type": "code",
   "execution_count": 25,
   "id": "055319ed",
   "metadata": {
    "ExecuteTime": {
     "end_time": "2022-05-24T07:46:03.732859Z",
     "start_time": "2022-05-24T07:46:03.717016Z"
    }
   },
   "outputs": [],
   "source": [
    "from sklearn.feature_selection import RFECV\n",
    "from sklearn.ensemble import RandomForestClassifier\n",
    "from sklearn.metrics import accuracy_score"
   ]
  },
  {
   "cell_type": "code",
   "execution_count": 26,
   "id": "b489aae3",
   "metadata": {
    "ExecuteTime": {
     "end_time": "2022-05-24T07:46:04.038495Z",
     "start_time": "2022-05-24T07:46:04.025396Z"
    }
   },
   "outputs": [],
   "source": [
    "model = RandomForestClassifier(n_jobs=-1,max_depth=4)"
   ]
  },
  {
   "cell_type": "code",
   "execution_count": 27,
   "id": "d2fa1463",
   "metadata": {
    "ExecuteTime": {
     "end_time": "2022-05-24T07:46:04.287315Z",
     "start_time": "2022-05-24T07:46:04.270106Z"
    }
   },
   "outputs": [],
   "source": [
    "#build the RFE with CV option.\n",
    "rfe = RFECV(model, min_features_to_select = 3, step = 1 , cv=5, scoring='accuracy',n_jobs=-1)"
   ]
  },
  {
   "cell_type": "code",
   "execution_count": 28,
   "id": "1525fa95",
   "metadata": {
    "ExecuteTime": {
     "end_time": "2022-05-24T07:46:09.974772Z",
     "start_time": "2022-05-24T07:46:04.818324Z"
    }
   },
   "outputs": [],
   "source": [
    "# fit the RFE to our data.\n",
    "selection = rfe.fit(X_train, y_train)"
   ]
  },
  {
   "cell_type": "code",
   "execution_count": 29,
   "id": "4a609122",
   "metadata": {
    "ExecuteTime": {
     "end_time": "2022-05-24T07:46:09.982892Z",
     "start_time": "2022-05-24T07:46:09.977514Z"
    }
   },
   "outputs": [
    {
     "name": "stdout",
     "output_type": "stream",
     "text": [
      "['PassengerId', 'Pclass', 'Sex', 'Age', 'SibSp', 'Family']\n"
     ]
    }
   ],
   "source": [
    "# print the selected features.\n",
    "feat_cols = list(X_train.columns[selection.get_support()])\n",
    "print(feat_cols)"
   ]
  }
 ],
 "metadata": {
  "kernelspec": {
   "display_name": "Python 3 (ipykernel)",
   "language": "python",
   "name": "python3"
  },
  "language_info": {
   "codemirror_mode": {
    "name": "ipython",
    "version": 3
   },
   "file_extension": ".py",
   "mimetype": "text/x-python",
   "name": "python",
   "nbconvert_exporter": "python",
   "pygments_lexer": "ipython3",
   "version": "3.8.10"
  },
  "toc": {
   "base_numbering": 1,
   "nav_menu": {},
   "number_sections": true,
   "sideBar": true,
   "skip_h1_title": false,
   "title_cell": "Table of Contents",
   "title_sidebar": "Contents",
   "toc_cell": false,
   "toc_position": {},
   "toc_section_display": true,
   "toc_window_display": false
  }
 },
 "nbformat": 4,
 "nbformat_minor": 5
}
