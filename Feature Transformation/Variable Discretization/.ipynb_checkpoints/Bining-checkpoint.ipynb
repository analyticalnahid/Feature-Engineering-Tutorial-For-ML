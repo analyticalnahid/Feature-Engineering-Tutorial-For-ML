{
 "cells": [
  {
   "cell_type": "code",
   "execution_count": 1,
   "id": "c562a2d1",
   "metadata": {
    "ExecuteTime": {
     "end_time": "2022-05-28T05:27:06.064199Z",
     "start_time": "2022-05-28T05:27:02.914377Z"
    }
   },
   "outputs": [],
   "source": [
    "import numpy as np\n",
    "import pandas as pd\n",
    "import matplotlib.pyplot as plt\n",
    "\n",
    "from sklearn.model_selection import train_test_split\n",
    "\n",
    "from sklearn.tree import DecisionTreeClassifier\n",
    "\n",
    "from sklearn.metrics import accuracy_score\n",
    "from sklearn.model_selection import cross_val_score\n",
    "\n",
    "from sklearn.preprocessing import KBinsDiscretizer\n",
    "from sklearn.compose import ColumnTransformer"
   ]
  },
  {
   "cell_type": "code",
   "execution_count": 2,
   "id": "34b4833d",
   "metadata": {
    "ExecuteTime": {
     "end_time": "2022-05-28T05:27:09.799097Z",
     "start_time": "2022-05-28T05:27:09.753888Z"
    }
   },
   "outputs": [],
   "source": [
    "df = pd.read_csv('train.csv')[['Age','Fare','SibSp','Parch','Survived']]"
   ]
  },
  {
   "cell_type": "code",
   "execution_count": 3,
   "id": "293f38ca",
   "metadata": {
    "ExecuteTime": {
     "end_time": "2022-05-28T05:27:09.991165Z",
     "start_time": "2022-05-28T05:27:09.967801Z"
    }
   },
   "outputs": [],
   "source": [
    "df.dropna(inplace=True)"
   ]
  },
  {
   "cell_type": "code",
   "execution_count": 4,
   "id": "5aaab647",
   "metadata": {
    "ExecuteTime": {
     "end_time": "2022-05-28T05:27:10.296005Z",
     "start_time": "2022-05-28T05:27:10.274670Z"
    }
   },
   "outputs": [],
   "source": [
    "df['family'] = df['SibSp'] + df['Parch']"
   ]
  },
  {
   "cell_type": "code",
   "execution_count": 5,
   "id": "709647fe",
   "metadata": {
    "ExecuteTime": {
     "end_time": "2022-05-28T05:27:10.500686Z",
     "start_time": "2022-05-28T05:27:10.478349Z"
    }
   },
   "outputs": [],
   "source": [
    "df.drop(columns=['SibSp','Parch'],inplace=True)"
   ]
  },
  {
   "cell_type": "code",
   "execution_count": 6,
   "id": "b1f45c9f",
   "metadata": {
    "ExecuteTime": {
     "end_time": "2022-05-28T05:27:10.705804Z",
     "start_time": "2022-05-28T05:27:10.688737Z"
    }
   },
   "outputs": [],
   "source": [
    "X = df.drop(columns=['Survived'])\n",
    "y = df['Survived']"
   ]
  },
  {
   "cell_type": "code",
   "execution_count": 7,
   "id": "f4d00403",
   "metadata": {
    "ExecuteTime": {
     "end_time": "2022-05-28T05:27:12.685869Z",
     "start_time": "2022-05-28T05:27:12.669154Z"
    }
   },
   "outputs": [],
   "source": [
    "X_train,X_test,y_train,y_test = train_test_split(X,y,test_size=0.2,random_state=42)"
   ]
  },
  {
   "cell_type": "code",
   "execution_count": 8,
   "id": "48ea984d",
   "metadata": {
    "ExecuteTime": {
     "end_time": "2022-05-28T05:27:13.001331Z",
     "start_time": "2022-05-28T05:27:12.966575Z"
    }
   },
   "outputs": [
    {
     "data": {
      "text/html": [
       "<div>\n",
       "<style scoped>\n",
       "    .dataframe tbody tr th:only-of-type {\n",
       "        vertical-align: middle;\n",
       "    }\n",
       "\n",
       "    .dataframe tbody tr th {\n",
       "        vertical-align: top;\n",
       "    }\n",
       "\n",
       "    .dataframe thead th {\n",
       "        text-align: right;\n",
       "    }\n",
       "</style>\n",
       "<table border=\"1\" class=\"dataframe\">\n",
       "  <thead>\n",
       "    <tr style=\"text-align: right;\">\n",
       "      <th></th>\n",
       "      <th>Age</th>\n",
       "      <th>Fare</th>\n",
       "      <th>family</th>\n",
       "    </tr>\n",
       "  </thead>\n",
       "  <tbody>\n",
       "    <tr>\n",
       "      <th>328</th>\n",
       "      <td>31.0</td>\n",
       "      <td>20.5250</td>\n",
       "      <td>2</td>\n",
       "    </tr>\n",
       "    <tr>\n",
       "      <th>73</th>\n",
       "      <td>26.0</td>\n",
       "      <td>14.4542</td>\n",
       "      <td>1</td>\n",
       "    </tr>\n",
       "    <tr>\n",
       "      <th>253</th>\n",
       "      <td>30.0</td>\n",
       "      <td>16.1000</td>\n",
       "      <td>1</td>\n",
       "    </tr>\n",
       "    <tr>\n",
       "      <th>719</th>\n",
       "      <td>33.0</td>\n",
       "      <td>7.7750</td>\n",
       "      <td>0</td>\n",
       "    </tr>\n",
       "    <tr>\n",
       "      <th>666</th>\n",
       "      <td>25.0</td>\n",
       "      <td>13.0000</td>\n",
       "      <td>0</td>\n",
       "    </tr>\n",
       "  </tbody>\n",
       "</table>\n",
       "</div>"
      ],
      "text/plain": [
       "      Age     Fare  family\n",
       "328  31.0  20.5250       2\n",
       "73   26.0  14.4542       1\n",
       "253  30.0  16.1000       1\n",
       "719  33.0   7.7750       0\n",
       "666  25.0  13.0000       0"
      ]
     },
     "execution_count": 8,
     "metadata": {},
     "output_type": "execute_result"
    }
   ],
   "source": [
    "X_train.head()"
   ]
  },
  {
   "cell_type": "markdown",
   "id": "5035d2d4",
   "metadata": {},
   "source": [
    "## Uniform Bining (Equal Width)"
   ]
  },
  {
   "cell_type": "code",
   "execution_count": 9,
   "id": "5cc43eef",
   "metadata": {
    "ExecuteTime": {
     "end_time": "2022-05-28T05:29:33.237002Z",
     "start_time": "2022-05-28T05:29:33.224887Z"
    }
   },
   "outputs": [],
   "source": [
    "uniform = KBinsDiscretizer(n_bins=10, encode='ordinal', strategy='uniform')"
   ]
  },
  {
   "cell_type": "code",
   "execution_count": 11,
   "id": "a71e1a54",
   "metadata": {
    "ExecuteTime": {
     "end_time": "2022-05-28T05:30:05.643299Z",
     "start_time": "2022-05-28T05:30:05.631808Z"
    }
   },
   "outputs": [],
   "source": [
    "uni_trf = ColumnTransformer([\n",
    "    ('first',uniform,[0]),\n",
    "    ('second',uniform,[1])\n",
    "])"
   ]
  },
  {
   "cell_type": "code",
   "execution_count": 13,
   "id": "3cd7fec1",
   "metadata": {
    "ExecuteTime": {
     "end_time": "2022-05-28T05:30:17.170533Z",
     "start_time": "2022-05-28T05:30:17.104380Z"
    }
   },
   "outputs": [],
   "source": [
    "X_train_uni_trf = uni_trf.fit_transform(X_train)\n",
    "X_test_uni_trf = uni_trf.transform(X_test)"
   ]
  },
  {
   "cell_type": "code",
   "execution_count": 14,
   "id": "aeca9eb8",
   "metadata": {
    "ExecuteTime": {
     "end_time": "2022-05-28T05:30:25.568798Z",
     "start_time": "2022-05-28T05:30:25.539110Z"
    }
   },
   "outputs": [
    {
     "data": {
      "text/plain": [
       "0.6783216783216783"
      ]
     },
     "execution_count": 14,
     "metadata": {},
     "output_type": "execute_result"
    }
   ],
   "source": [
    "uni_clf = DecisionTreeClassifier()\n",
    "uni_clf.fit(X_train_uni_trf,y_train)\n",
    "uni_y_pred = uni_clf.predict(X_test_uni_trf)\n",
    "accuracy_score(y_test,uni_y_pred)"
   ]
  },
  {
   "cell_type": "markdown",
   "id": "322cb8d7",
   "metadata": {},
   "source": [
    "## Quantile Bining (Equal Frequency)"
   ]
  },
  {
   "cell_type": "code",
   "execution_count": 15,
   "id": "e2a901a8",
   "metadata": {
    "ExecuteTime": {
     "end_time": "2022-05-28T05:31:21.736415Z",
     "start_time": "2022-05-28T05:31:21.725913Z"
    }
   },
   "outputs": [],
   "source": [
    "quantile = KBinsDiscretizer(n_bins=10, encode='ordinal', strategy='quantile')"
   ]
  },
  {
   "cell_type": "code",
   "execution_count": 16,
   "id": "d8e9691a",
   "metadata": {
    "ExecuteTime": {
     "end_time": "2022-05-28T05:31:22.091051Z",
     "start_time": "2022-05-28T05:31:22.069391Z"
    }
   },
   "outputs": [],
   "source": [
    "quan_trf = ColumnTransformer([\n",
    "    ('first',quantile,[0]),\n",
    "    ('second',quantile,[1])\n",
    "])"
   ]
  },
  {
   "cell_type": "code",
   "execution_count": 17,
   "id": "ca1b2a1d",
   "metadata": {
    "ExecuteTime": {
     "end_time": "2022-05-28T05:31:22.356062Z",
     "start_time": "2022-05-28T05:31:22.285823Z"
    }
   },
   "outputs": [],
   "source": [
    "X_train_quan_trf = quan_trf.fit_transform(X_train)\n",
    "X_test_quan_trf = quan_trf.transform(X_test)"
   ]
  },
  {
   "cell_type": "code",
   "execution_count": 18,
   "id": "8e5acaa0",
   "metadata": {
    "ExecuteTime": {
     "end_time": "2022-05-28T05:31:24.158905Z",
     "start_time": "2022-05-28T05:31:24.125454Z"
    }
   },
   "outputs": [
    {
     "data": {
      "text/plain": [
       "0.6223776223776224"
      ]
     },
     "execution_count": 18,
     "metadata": {},
     "output_type": "execute_result"
    }
   ],
   "source": [
    "quan_clf = DecisionTreeClassifier()\n",
    "quan_clf.fit(X_train_quan_trf,y_train)\n",
    "quan_y_pred = quan_clf.predict(X_test_quan_trf)\n",
    "accuracy_score(y_test,quan_y_pred)"
   ]
  },
  {
   "cell_type": "markdown",
   "id": "0c328ea3",
   "metadata": {},
   "source": [
    "## KMeans Bining"
   ]
  },
  {
   "cell_type": "code",
   "execution_count": 19,
   "id": "53c14696",
   "metadata": {
    "ExecuteTime": {
     "end_time": "2022-05-28T05:32:27.407098Z",
     "start_time": "2022-05-28T05:32:27.395806Z"
    }
   },
   "outputs": [],
   "source": [
    "kmeans = KBinsDiscretizer(n_bins=10, encode='ordinal', strategy='kmeans')"
   ]
  },
  {
   "cell_type": "code",
   "execution_count": 20,
   "id": "3d0e85af",
   "metadata": {
    "ExecuteTime": {
     "end_time": "2022-05-28T05:32:27.788497Z",
     "start_time": "2022-05-28T05:32:27.771934Z"
    }
   },
   "outputs": [],
   "source": [
    "kmen_trf = ColumnTransformer([\n",
    "    ('first',kmeans,[0]),\n",
    "    ('second',kmeans,[1])\n",
    "])"
   ]
  },
  {
   "cell_type": "code",
   "execution_count": 21,
   "id": "d9ab11af",
   "metadata": {
    "ExecuteTime": {
     "end_time": "2022-05-28T05:32:30.692455Z",
     "start_time": "2022-05-28T05:32:30.341966Z"
    }
   },
   "outputs": [],
   "source": [
    "X_train_kmen_trf = kmen_trf.fit_transform(X_train)\n",
    "X_test_kmen_trf = kmen_trf.transform(X_test)"
   ]
  },
  {
   "cell_type": "code",
   "execution_count": 22,
   "id": "f2481495",
   "metadata": {
    "ExecuteTime": {
     "end_time": "2022-05-28T05:32:31.439034Z",
     "start_time": "2022-05-28T05:32:31.400073Z"
    }
   },
   "outputs": [
    {
     "data": {
      "text/plain": [
       "0.6083916083916084"
      ]
     },
     "execution_count": 22,
     "metadata": {},
     "output_type": "execute_result"
    }
   ],
   "source": [
    "kmen_clf = DecisionTreeClassifier()\n",
    "kmen_clf.fit(X_train_kmen_trf,y_train)\n",
    "kmen_y_pred = kmen_clf.predict(X_test_kmen_trf)\n",
    "accuracy_score(y_test,kmen_y_pred)"
   ]
  },
  {
   "cell_type": "markdown",
   "id": "38e32667",
   "metadata": {},
   "source": [
    "## Custom Bining"
   ]
  },
  {
   "cell_type": "code",
   "execution_count": 23,
   "id": "67eb5109",
   "metadata": {
    "ExecuteTime": {
     "end_time": "2022-05-28T05:32:41.595550Z",
     "start_time": "2022-05-28T05:32:41.559631Z"
    }
   },
   "outputs": [],
   "source": [
    "def discretize(bins,strategy):\n",
    "    kbin_age = KBinsDiscretizer(n_bins=bins,encode='ordinal',strategy=strategy)\n",
    "    kbin_fare = KBinsDiscretizer(n_bins=bins,encode='ordinal',strategy=strategy)\n",
    "    \n",
    "    trf = ColumnTransformer([\n",
    "        ('first',kbin_age,[0]),\n",
    "        ('second',kbin_fare,[1])\n",
    "    ])\n",
    "    \n",
    "    X_trf = trf.fit_transform(X)\n",
    "    print(np.mean(cross_val_score(DecisionTreeClassifier(),X,y,cv=10,scoring='accuracy')))\n",
    "    \n",
    "    plt.figure(figsize=(14,4))\n",
    "    plt.subplot(121)\n",
    "    plt.hist(X['Age'])\n",
    "    plt.title(\"Before\")\n",
    "\n",
    "    plt.subplot(122)\n",
    "    plt.hist(X_trf[:,0],color='red')\n",
    "    plt.title(\"After\")\n",
    "\n",
    "    plt.show()\n",
    "    \n",
    "    plt.figure(figsize=(14,4))\n",
    "    plt.subplot(121)\n",
    "    plt.hist(X['Fare'])\n",
    "    plt.title(\"Before\")\n",
    "\n",
    "    plt.subplot(122)\n",
    "    plt.hist(X_trf[:,1],color='red')\n",
    "    plt.title(\"Fare\")\n",
    "\n",
    "    plt.show()\n",
    "    "
   ]
  },
  {
   "cell_type": "code",
   "execution_count": null,
   "id": "987a2501",
   "metadata": {},
   "outputs": [],
   "source": []
  }
 ],
 "metadata": {
  "kernelspec": {
   "display_name": "Python 3 (ipykernel)",
   "language": "python",
   "name": "python3"
  },
  "language_info": {
   "codemirror_mode": {
    "name": "ipython",
    "version": 3
   },
   "file_extension": ".py",
   "mimetype": "text/x-python",
   "name": "python",
   "nbconvert_exporter": "python",
   "pygments_lexer": "ipython3",
   "version": "3.8.10"
  },
  "toc": {
   "base_numbering": 1,
   "nav_menu": {},
   "number_sections": true,
   "sideBar": true,
   "skip_h1_title": false,
   "title_cell": "Table of Contents",
   "title_sidebar": "Contents",
   "toc_cell": false,
   "toc_position": {},
   "toc_section_display": true,
   "toc_window_display": false
  }
 },
 "nbformat": 4,
 "nbformat_minor": 5
}
