{
 "cells": [
  {
   "cell_type": "code",
   "execution_count": 1,
   "id": "d2f4797e",
   "metadata": {
    "ExecuteTime": {
     "end_time": "2022-05-24T17:53:22.982235Z",
     "start_time": "2022-05-24T17:53:22.964243Z"
    }
   },
   "outputs": [
    {
     "ename": "SyntaxError",
     "evalue": "invalid syntax (3303725045.py, line 5)",
     "output_type": "error",
     "traceback": [
      "\u001b[0;36m  Input \u001b[0;32mIn [1]\u001b[0;36m\u001b[0m\n\u001b[0;31m    4 map_pickup = folium.Map( location=[-1.317755,36.830370])\u001b[0m\n\u001b[0m      ^\u001b[0m\n\u001b[0;31mSyntaxError\u001b[0m\u001b[0;31m:\u001b[0m invalid syntax\n"
     ]
    }
   ],
   "source": [
    "# pip install geopy\n",
    "import folium\n",
    "2\n",
    "3 # create the map.\n",
    "4 map_pickup = folium.Map( location=[-1.317755,36.830370])\n",
    "5\n",
    "6 # adding the latitude and longitude points to the map.\n",
    "7 train.apply(lambda row:folium.CircleMarker(location=[row[\"Pickup Lat\"], row[\"Pickup \\\n",
    "8 Long\"]] ).add_to(map_pickup), axis=1)\n",
    "9\n",
    "10 # display the map: just ask for the object representation in Jupiter notebook. 11 map_pickup\n",
    "12\n",
    "13 # optional: save the map.\n",
    "14 map_pickup.save('map_pickup.html')"
   ]
  },
  {
   "cell_type": "code",
   "execution_count": null,
   "id": "f080d14c",
   "metadata": {},
   "outputs": [],
   "source": []
  }
 ],
 "metadata": {
  "kernelspec": {
   "display_name": "Python 3 (ipykernel)",
   "language": "python",
   "name": "python3"
  },
  "language_info": {
   "codemirror_mode": {
    "name": "ipython",
    "version": 3
   },
   "file_extension": ".py",
   "mimetype": "text/x-python",
   "name": "python",
   "nbconvert_exporter": "python",
   "pygments_lexer": "ipython3",
   "version": "3.8.10"
  },
  "toc": {
   "base_numbering": 1,
   "nav_menu": {},
   "number_sections": true,
   "sideBar": true,
   "skip_h1_title": false,
   "title_cell": "Table of Contents",
   "title_sidebar": "Contents",
   "toc_cell": false,
   "toc_position": {},
   "toc_section_display": true,
   "toc_window_display": false
  }
 },
 "nbformat": 4,
 "nbformat_minor": 5
}
