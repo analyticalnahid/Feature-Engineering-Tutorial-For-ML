{
 "cells": [
  {
   "cell_type": "code",
   "execution_count": 19,
   "id": "5def20f1",
   "metadata": {
    "ExecuteTime": {
     "end_time": "2022-05-27T12:16:52.898385Z",
     "start_time": "2022-05-27T12:16:52.886897Z"
    }
   },
   "outputs": [],
   "source": [
    "import pandas as pd\n",
    "from sklearn.datasets import load_boston\n",
    "import matplotlib.pyplot as plt"
   ]
  },
  {
   "cell_type": "code",
   "execution_count": 2,
   "id": "6bf56eae",
   "metadata": {
    "ExecuteTime": {
     "end_time": "2022-05-27T12:08:04.776367Z",
     "start_time": "2022-05-27T12:08:04.757550Z"
    }
   },
   "outputs": [],
   "source": [
    "df = pd.read_csv('wine_data.csv',header=None,usecols=[0,1,2])\n",
    "df.columns=['Class label', 'Alcohol', 'Malic acid']"
   ]
  },
  {
   "cell_type": "code",
   "execution_count": 6,
   "id": "1b2b0cef",
   "metadata": {
    "ExecuteTime": {
     "end_time": "2022-05-27T12:10:10.350600Z",
     "start_time": "2022-05-27T12:10:10.333521Z"
    }
   },
   "outputs": [],
   "source": [
    "X = df.drop(columns=['Class label'])\n",
    "y = df['Class label']"
   ]
  },
  {
   "cell_type": "code",
   "execution_count": 7,
   "id": "2a71005b",
   "metadata": {
    "ExecuteTime": {
     "end_time": "2022-05-27T12:11:18.462734Z",
     "start_time": "2022-05-27T12:11:18.434135Z"
    }
   },
   "outputs": [],
   "source": [
    "from sklearn.model_selection import train_test_split\n",
    "X_train, X_test, y_train, y_test = train_test_split(X,y,test_size=0.3)"
   ]
  },
  {
   "cell_type": "code",
   "execution_count": 8,
   "id": "9a1de4f1",
   "metadata": {
    "ExecuteTime": {
     "end_time": "2022-05-27T12:12:22.519686Z",
     "start_time": "2022-05-27T12:12:22.487608Z"
    }
   },
   "outputs": [],
   "source": [
    "from sklearn.preprocessing import RobustScaler\n",
    "scaler = RobustScaler()\n",
    "\n",
    "X_train_scaled = scaler.fit_transform(X_train)\n",
    "X_test_scaled = scaler.transform(X_test)"
   ]
  },
  {
   "cell_type": "code",
   "execution_count": 14,
   "id": "c4f53e0c",
   "metadata": {
    "ExecuteTime": {
     "end_time": "2022-05-27T12:14:14.653951Z",
     "start_time": "2022-05-27T12:14:14.640943Z"
    }
   },
   "outputs": [],
   "source": [
    "X_train_scaled = pd.DataFrame(X_train_scaled, columns=X_train.columns)\n",
    "X_test_scaled = pd.DataFrame(X_test_scaled, columns=X_test.columns)"
   ]
  },
  {
   "cell_type": "code",
   "execution_count": 15,
   "id": "ede22bd5",
   "metadata": {
    "ExecuteTime": {
     "end_time": "2022-05-27T12:14:15.451717Z",
     "start_time": "2022-05-27T12:14:15.432259Z"
    }
   },
   "outputs": [
    {
     "data": {
      "text/plain": [
       "array([13.04,  1.82])"
      ]
     },
     "execution_count": 15,
     "metadata": {},
     "output_type": "execute_result"
    }
   ],
   "source": [
    "scaler.center_"
   ]
  },
  {
   "cell_type": "code",
   "execution_count": 16,
   "id": "4034a87f",
   "metadata": {
    "ExecuteTime": {
     "end_time": "2022-05-27T12:14:16.094401Z",
     "start_time": "2022-05-27T12:14:16.077209Z"
    }
   },
   "outputs": [
    {
     "data": {
      "text/plain": [
       "array([1.365 , 1.4475])"
      ]
     },
     "execution_count": 16,
     "metadata": {},
     "output_type": "execute_result"
    }
   ],
   "source": [
    "scaler.scale_"
   ]
  },
  {
   "cell_type": "code",
   "execution_count": 17,
   "id": "15dcce7a",
   "metadata": {
    "ExecuteTime": {
     "end_time": "2022-05-27T12:14:23.195921Z",
     "start_time": "2022-05-27T12:14:23.156211Z"
    }
   },
   "outputs": [
    {
     "data": {
      "text/plain": [
       "Alcohol       13.04\n",
       "Malic acid     1.82\n",
       "dtype: float64"
      ]
     },
     "execution_count": 17,
     "metadata": {},
     "output_type": "execute_result"
    }
   ],
   "source": [
    "X_train.median()"
   ]
  },
  {
   "cell_type": "code",
   "execution_count": 18,
   "id": "a60b2151",
   "metadata": {
    "ExecuteTime": {
     "end_time": "2022-05-27T12:14:23.641246Z",
     "start_time": "2022-05-27T12:14:23.610172Z"
    }
   },
   "outputs": [
    {
     "data": {
      "text/plain": [
       "Alcohol       6.505213e-16\n",
       "Malic acid    0.000000e+00\n",
       "dtype: float64"
      ]
     },
     "execution_count": 18,
     "metadata": {},
     "output_type": "execute_result"
    }
   ],
   "source": [
    "X_train_scaled.median()"
   ]
  },
  {
   "cell_type": "code",
   "execution_count": 20,
   "id": "b4ecfd11",
   "metadata": {
    "ExecuteTime": {
     "end_time": "2022-05-27T12:17:55.463528Z",
     "start_time": "2022-05-27T12:17:54.633115Z"
    }
   },
   "outputs": [
    {
     "data": {
      "image/png": "[encoded data removed]",
      "text/plain": [
       "<Figure size 864x360 with 2 Axes>"
      ]
     },
     "metadata": {
      "needs_background": "light"
     },
     "output_type": "display_data"
    }
   ],
   "source": [
    "fig, (ax1, ax2) = plt.subplots(ncols=2, figsize=(12, 5))\n",
    "\n",
    "ax1.scatter(X_train['Alcohol'], X_train['Malic acid'])\n",
    "ax1.set_title(\"Before Scaling\")\n",
    "ax2.scatter(X_train_scaled['Alcohol'], X_train_scaled['Malic acid'],color='red')\n",
    "ax2.set_title(\"After Scaling\")\n",
    "plt.show()"
   ]
  },
  {
   "cell_type": "code",
   "execution_count": null,
   "id": "2cac14bc",
   "metadata": {},
   "outputs": [],
   "source": []
  }
 ],
 "metadata": {
  "kernelspec": {
   "display_name": "Python 3 (ipykernel)",
   "language": "python",
   "name": "python3"
  },
  "language_info": {
   "codemirror_mode": {
    "name": "ipython",
    "version": 3
   },
   "file_extension": ".py",
   "mimetype": "text/x-python",
   "name": "python",
   "nbconvert_exporter": "python",
   "pygments_lexer": "ipython3",
   "version": "3.8.10"
  },
  "toc": {
   "base_numbering": 1,
   "nav_menu": {},
   "number_sections": true,
   "sideBar": true,
   "skip_h1_title": false,
   "title_cell": "Table of Contents",
   "title_sidebar": "Contents",
   "toc_cell": false,
   "toc_position": {},
   "toc_section_display": true,
   "toc_window_display": false
  }
 },
 "nbformat": 4,
 "nbformat_minor": 5
}
