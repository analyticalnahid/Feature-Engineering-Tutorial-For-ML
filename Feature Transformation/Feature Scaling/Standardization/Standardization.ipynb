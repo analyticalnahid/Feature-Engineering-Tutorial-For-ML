{
 "cells": [
  {
   "cell_type": "code",
   "execution_count": 1,
   "metadata": {
    "ExecuteTime": {
     "end_time": "2022-05-27T11:45:05.990692Z",
     "start_time": "2022-05-27T11:45:03.142256Z"
    },
    "_cell_guid": "b1076dfc-b9ad-4769-8c92-a6c4dae69d19",
    "_uuid": "8f2839f25d086af736a60e9eeb907d3b93b6e0e5"
   },
   "outputs": [],
   "source": [
    "import numpy as np \n",
    "import pandas as pd \n",
    "import matplotlib.pyplot as plt\n",
    "import seaborn as sns"
   ]
  },
  {
   "cell_type": "code",
   "execution_count": 2,
   "metadata": {
    "ExecuteTime": {
     "end_time": "2022-05-27T11:45:06.006174Z",
     "start_time": "2022-05-27T11:45:05.993363Z"
    }
   },
   "outputs": [],
   "source": [
    "df = pd.read_csv('Social_Network_Ads.csv')"
   ]
  },
  {
   "cell_type": "code",
   "execution_count": 3,
   "metadata": {
    "ExecuteTime": {
     "end_time": "2022-05-27T11:45:06.015729Z",
     "start_time": "2022-05-27T11:45:06.009047Z"
    }
   },
   "outputs": [],
   "source": [
    "df=df.iloc[:,2:]"
   ]
  },
  {
   "cell_type": "code",
   "execution_count": 4,
   "metadata": {
    "ExecuteTime": {
     "end_time": "2022-05-27T11:45:10.598584Z",
     "start_time": "2022-05-27T11:45:10.511138Z"
    }
   },
   "outputs": [
    {
     "data": {
      "text/html": [
       "<div>\n",
       "<style scoped>\n",
       "    .dataframe tbody tr th:only-of-type {\n",
       "        vertical-align: middle;\n",
       "    }\n",
       "\n",
       "    .dataframe tbody tr th {\n",
       "        vertical-align: top;\n",
       "    }\n",
       "\n",
       "    .dataframe thead th {\n",
       "        text-align: right;\n",
       "    }\n",
       "</style>\n",
       "<table border=\"1\" class=\"dataframe\">\n",
       "  <thead>\n",
       "    <tr style=\"text-align: right;\">\n",
       "      <th></th>\n",
       "      <th>Age</th>\n",
       "      <th>EstimatedSalary</th>\n",
       "      <th>Purchased</th>\n",
       "    </tr>\n",
       "  </thead>\n",
       "  <tbody>\n",
       "    <tr>\n",
       "      <th>223</th>\n",
       "      <td>60</td>\n",
       "      <td>102000</td>\n",
       "      <td>1</td>\n",
       "    </tr>\n",
       "    <tr>\n",
       "      <th>211</th>\n",
       "      <td>52</td>\n",
       "      <td>150000</td>\n",
       "      <td>1</td>\n",
       "    </tr>\n",
       "    <tr>\n",
       "      <th>188</th>\n",
       "      <td>35</td>\n",
       "      <td>72000</td>\n",
       "      <td>0</td>\n",
       "    </tr>\n",
       "    <tr>\n",
       "      <th>253</th>\n",
       "      <td>37</td>\n",
       "      <td>146000</td>\n",
       "      <td>1</td>\n",
       "    </tr>\n",
       "    <tr>\n",
       "      <th>34</th>\n",
       "      <td>27</td>\n",
       "      <td>90000</td>\n",
       "      <td>0</td>\n",
       "    </tr>\n",
       "  </tbody>\n",
       "</table>\n",
       "</div>"
      ],
      "text/plain": [
       "     Age  EstimatedSalary  Purchased\n",
       "223   60           102000          1\n",
       "211   52           150000          1\n",
       "188   35            72000          0\n",
       "253   37           146000          1\n",
       "34    27            90000          0"
      ]
     },
     "execution_count": 4,
     "metadata": {},
     "output_type": "execute_result"
    }
   ],
   "source": [
    "df.sample(5)"
   ]
  },
  {
   "cell_type": "markdown",
   "metadata": {},
   "source": [
    "## Train test split"
   ]
  },
  {
   "cell_type": "code",
   "execution_count": 5,
   "metadata": {
    "ExecuteTime": {
     "end_time": "2022-05-27T11:45:25.130793Z",
     "start_time": "2022-05-27T11:45:24.917879Z"
    }
   },
   "outputs": [
    {
     "data": {
      "text/plain": [
       "((280, 2), (120, 2))"
      ]
     },
     "execution_count": 5,
     "metadata": {},
     "output_type": "execute_result"
    }
   ],
   "source": [
    "from sklearn.model_selection import train_test_split\n",
    "X_train, X_test, y_train, y_test = train_test_split(df.drop('Purchased', axis=1),\n",
    "                                                    df['Purchased'],\n",
    "                                                    test_size=0.3,\n",
    "                                                    random_state=2)\n",
    "\n",
    "X_train.shape, X_test.shape"
   ]
  },
  {
   "cell_type": "markdown",
   "metadata": {},
   "source": [
    "# StandardScaler"
   ]
  },
  {
   "cell_type": "code",
   "execution_count": 7,
   "metadata": {
    "ExecuteTime": {
     "end_time": "2022-05-27T11:46:28.468467Z",
     "start_time": "2022-05-27T11:46:28.423110Z"
    }
   },
   "outputs": [],
   "source": [
    "from sklearn.preprocessing import StandardScaler\n",
    "\n",
    "scaler = StandardScaler()\n",
    "\n",
    "# fit the scaler to the train set, it will learn the parameters\n",
    "scaler.fit(X_train)\n",
    "\n",
    "# transform train and test sets\n",
    "X_train_scaled = scaler.fit_transform(X_train)\n",
    "X_test_scaled = scaler.transform(X_test)"
   ]
  },
  {
   "cell_type": "code",
   "execution_count": 8,
   "metadata": {
    "ExecuteTime": {
     "end_time": "2022-05-27T11:46:40.485273Z",
     "start_time": "2022-05-27T11:46:40.464780Z"
    }
   },
   "outputs": [
    {
     "data": {
      "text/plain": [
       "array([3.77642857e+01, 6.99000000e+04])"
      ]
     },
     "execution_count": 8,
     "metadata": {},
     "output_type": "execute_result"
    }
   ],
   "source": [
    "scaler.mean_"
   ]
  },
  {
   "cell_type": "code",
   "execution_count": 9,
   "metadata": {
    "ExecuteTime": {
     "end_time": "2022-05-27T11:46:45.348521Z",
     "start_time": "2022-05-27T11:46:45.314691Z"
    }
   },
   "outputs": [
    {
     "data": {
      "text/html": [
       "<div>\n",
       "<style scoped>\n",
       "    .dataframe tbody tr th:only-of-type {\n",
       "        vertical-align: middle;\n",
       "    }\n",
       "\n",
       "    .dataframe tbody tr th {\n",
       "        vertical-align: top;\n",
       "    }\n",
       "\n",
       "    .dataframe thead th {\n",
       "        text-align: right;\n",
       "    }\n",
       "</style>\n",
       "<table border=\"1\" class=\"dataframe\">\n",
       "  <thead>\n",
       "    <tr style=\"text-align: right;\">\n",
       "      <th></th>\n",
       "      <th>Age</th>\n",
       "      <th>EstimatedSalary</th>\n",
       "    </tr>\n",
       "  </thead>\n",
       "  <tbody>\n",
       "    <tr>\n",
       "      <th>112</th>\n",
       "      <td>38</td>\n",
       "      <td>61000</td>\n",
       "    </tr>\n",
       "    <tr>\n",
       "      <th>209</th>\n",
       "      <td>46</td>\n",
       "      <td>22000</td>\n",
       "    </tr>\n",
       "    <tr>\n",
       "      <th>294</th>\n",
       "      <td>35</td>\n",
       "      <td>57000</td>\n",
       "    </tr>\n",
       "    <tr>\n",
       "      <th>307</th>\n",
       "      <td>47</td>\n",
       "      <td>113000</td>\n",
       "    </tr>\n",
       "    <tr>\n",
       "      <th>345</th>\n",
       "      <td>41</td>\n",
       "      <td>63000</td>\n",
       "    </tr>\n",
       "    <tr>\n",
       "      <th>...</th>\n",
       "      <td>...</td>\n",
       "      <td>...</td>\n",
       "    </tr>\n",
       "    <tr>\n",
       "      <th>299</th>\n",
       "      <td>46</td>\n",
       "      <td>117000</td>\n",
       "    </tr>\n",
       "    <tr>\n",
       "      <th>22</th>\n",
       "      <td>48</td>\n",
       "      <td>41000</td>\n",
       "    </tr>\n",
       "    <tr>\n",
       "      <th>72</th>\n",
       "      <td>20</td>\n",
       "      <td>23000</td>\n",
       "    </tr>\n",
       "    <tr>\n",
       "      <th>15</th>\n",
       "      <td>29</td>\n",
       "      <td>80000</td>\n",
       "    </tr>\n",
       "    <tr>\n",
       "      <th>168</th>\n",
       "      <td>29</td>\n",
       "      <td>148000</td>\n",
       "    </tr>\n",
       "  </tbody>\n",
       "</table>\n",
       "<p>280 rows × 2 columns</p>\n",
       "</div>"
      ],
      "text/plain": [
       "     Age  EstimatedSalary\n",
       "112   38            61000\n",
       "209   46            22000\n",
       "294   35            57000\n",
       "307   47           113000\n",
       "345   41            63000\n",
       "..   ...              ...\n",
       "299   46           117000\n",
       "22    48            41000\n",
       "72    20            23000\n",
       "15    29            80000\n",
       "168   29           148000\n",
       "\n",
       "[280 rows x 2 columns]"
      ]
     },
     "execution_count": 9,
     "metadata": {},
     "output_type": "execute_result"
    }
   ],
   "source": [
    "X_train"
   ]
  },
  {
   "cell_type": "code",
   "execution_count": 10,
   "metadata": {
    "ExecuteTime": {
     "end_time": "2022-05-27T11:46:54.514716Z",
     "start_time": "2022-05-27T11:46:54.466870Z"
    },
    "collapsed": true
   },
   "outputs": [
    {
     "data": {
      "text/plain": [
       "array([[ 0.02273414, -0.26389006],\n",
       "       [ 0.79431698, -1.42026223],\n",
       "       [-0.26660943, -0.38249233],\n",
       "       [ 0.89076483,  1.2779395 ],\n",
       "       [ 0.3120777 , -0.20458892],\n",
       "       [-0.26660943, -0.59004631],\n",
       "       [-0.26660943, -1.42026223],\n",
       "       [ 1.46945196, -1.06445541],\n",
       "       [-0.07371372,  0.12156733],\n",
       "       [-0.84529656, -0.67899802],\n",
       "       [-0.07371372,  0.00296506],\n",
       "       [-0.26660943,  0.09191676],\n",
       "       [ 0.21562985, -0.3231912 ],\n",
       "       [-0.26660943,  0.26982017],\n",
       "       [ 0.11918199,  0.03261563],\n",
       "       [ 1.95169124,  2.19710712],\n",
       "       [-1.03819227, -1.47956337],\n",
       "       [ 0.3120777 ,  0.29947074],\n",
       "       [ 2.04813909, -1.21270825],\n",
       "       [-1.13464012, -0.53074518],\n",
       "       [ 0.21562985,  0.1512179 ],\n",
       "       [-0.26660943, -0.94585313],\n",
       "       [-0.65240085,  0.03261563],\n",
       "       [ 0.21562985,  0.06226619],\n",
       "       [ 0.40852556, -0.14528779],\n",
       "       [-1.13464012, -1.12375655],\n",
       "       [-0.07371372,  2.25640826],\n",
       "       [ 1.08366054, -0.14528779],\n",
       "       [ 0.89076483,  1.04073495],\n",
       "       [-0.07371372,  0.26982017],\n",
       "       [-0.55595299, -1.5388645 ],\n",
       "       [-1.13464012, -1.03480484],\n",
       "       [-0.7488487 ,  1.36689121],\n",
       "       [ 1.08366054,  0.56632586],\n",
       "       [ 1.56589982, -1.30165996],\n",
       "       [ 0.69786912, -1.42026223],\n",
       "       [-0.65240085, -1.06445541],\n",
       "       [ 1.1801084 ,  0.53667529],\n",
       "       [-0.26660943, -1.47956337],\n",
       "       [-1.6168794 ,  0.53667529],\n",
       "       [-1.03819227, -1.15340711],\n",
       "       [-0.07371372,  0.03261563],\n",
       "       [ 0.3120777 ,  0.06226619],\n",
       "       [ 0.89076483, -1.39061166],\n",
       "       [-1.03819227, -0.35284176],\n",
       "       [-1.80977511,  0.18086847],\n",
       "       [-1.80977511, -1.4499128 ],\n",
       "       [ 0.69786912,  1.81164973],\n",
       "       [-0.07371372,  0.29947074],\n",
       "       [-1.6168794 ,  0.06226619],\n",
       "       [-0.65240085,  1.42619234],\n",
       "       [-0.26660943, -0.26389006],\n",
       "       [-0.36305728,  1.33724064],\n",
       "       [ 0.50497341,  1.24828893],\n",
       "       [-0.65240085,  0.18086847],\n",
       "       [-1.52043154, -0.44179347],\n",
       "       [-1.03819227,  0.41807302],\n",
       "       [ 0.79431698,  0.26982017],\n",
       "       [ 1.95169124, -0.94585313],\n",
       "       [ 0.79431698, -0.3231912 ],\n",
       "       [ 0.21562985,  0.2401696 ],\n",
       "       [-1.71332725, -0.61969688],\n",
       "       [-0.26660943,  0.1512179 ],\n",
       "       [-1.32753583, -1.27200939],\n",
       "       [-0.26660943, -0.44179347],\n",
       "       [ 0.11918199,  0.09191676],\n",
       "       [-0.94174441,  0.44772358],\n",
       "       [ 2.04813909,  0.38842245],\n",
       "       [-1.90622296,  0.35877188],\n",
       "       [ 2.04813909, -0.82725086],\n",
       "       [ 2.14458695,  1.12968666],\n",
       "       [ 0.79431698, -1.24235882],\n",
       "       [ 0.40852556, -0.47144404],\n",
       "       [ 0.02273414, -0.26389006],\n",
       "       [ 1.46945196,  0.35877188],\n",
       "       [-0.17016157, -0.59004631],\n",
       "       [ 0.21562985, -0.26389006],\n",
       "       [-0.45950514,  2.34535997],\n",
       "       [ 0.11918199,  0.21051904],\n",
       "       [ 0.21562985, -0.67899802],\n",
       "       [ 0.98721269, -1.09410598],\n",
       "       [-0.17016157,  0.1512179 ],\n",
       "       [-0.07371372,  0.29947074],\n",
       "       [ 0.40852556, -0.50109461],\n",
       "       [-0.36305728, -1.33131052],\n",
       "       [ 0.89076483, -0.79760029],\n",
       "       [-0.94174441,  0.41807302],\n",
       "       [-0.07371372, -0.44179347],\n",
       "       [-0.94174441, -0.44179347],\n",
       "       [-1.80977511,  0.44772358],\n",
       "       [-0.84529656, -1.24235882],\n",
       "       [-0.94174441, -0.3231912 ],\n",
       "       [ 0.98721269,  0.77387984],\n",
       "       [-1.6168794 , -0.05633608],\n",
       "       [-1.03819227, -0.35284176],\n",
       "       [ 0.02273414, -0.56039574],\n",
       "       [-0.65240085, -0.35284176],\n",
       "       [-1.13464012, -1.56851507],\n",
       "       [ 1.95169124, -1.39061166],\n",
       "       [-0.65240085, -1.62781621],\n",
       "       [ 0.21562985, -0.38249233],\n",
       "       [ 0.89076483,  2.19710712],\n",
       "       [ 1.1801084 , -1.00515427],\n",
       "       [-0.17016157, -0.53074518],\n",
       "       [ 1.66234767,  1.78199917],\n",
       "       [ 1.08366054, -1.24235882],\n",
       "       [ 0.02273414,  1.2779395 ],\n",
       "       [-0.45950514, -0.29354063],\n",
       "       [ 1.66234767, -0.91620257],\n",
       "       [ 0.3120777 ,  0.50702472],\n",
       "       [-1.03819227, -1.56851507],\n",
       "       [ 1.56589982,  1.12968666],\n",
       "       [-1.52043154,  0.32912131],\n",
       "       [ 0.02273414, -0.14528779],\n",
       "       [ 0.11918199, -0.82725086],\n",
       "       [ 0.21562985,  1.10003609],\n",
       "       [ 0.40852556, -0.17493835],\n",
       "       [-0.45950514, -0.02668551],\n",
       "       [ 1.08366054,  2.10815542],\n",
       "       [-0.26660943, -0.14528779],\n",
       "       [-0.7488487 , -0.61969688],\n",
       "       [ 1.1801084 , -1.47956337],\n",
       "       [-1.42398369, -1.47956337],\n",
       "       [ 1.85524338, -0.29354063],\n",
       "       [ 1.85524338,  0.12156733],\n",
       "       [ 0.40852556,  0.1512179 ],\n",
       "       [ 1.27655625, -1.39061166],\n",
       "       [-0.45950514, -1.24235882],\n",
       "       [-0.7488487 ,  1.93025201],\n",
       "       [-0.26660943,  1.12968666],\n",
       "       [ 0.02273414, -0.59004631],\n",
       "       [ 0.21562985, -0.14528779],\n",
       "       [-0.55595299,  1.93025201],\n",
       "       [-0.94174441,  0.26982017],\n",
       "       [-1.90622296,  0.47737415],\n",
       "       [-1.32753583,  0.56632586],\n",
       "       [ 0.21562985,  0.1512179 ],\n",
       "       [ 1.37300411, -1.4499128 ],\n",
       "       [-0.07371372,  0.68492813],\n",
       "       [ 0.11918199,  1.90060144],\n",
       "       [-1.71332725, -1.00515427],\n",
       "       [ 0.21562985, -0.38249233],\n",
       "       [-1.80977511, -1.33131052],\n",
       "       [ 0.79431698,  0.53667529],\n",
       "       [-0.17016157,  1.42619234],\n",
       "       [-1.03819227,  0.56632586],\n",
       "       [-1.23108798, -1.09410598],\n",
       "       [ 1.37300411,  2.01920371],\n",
       "       [ 0.79431698, -1.12375655],\n",
       "       [ 0.79431698,  0.12156733],\n",
       "       [-1.80977511, -1.30165996],\n",
       "       [ 0.02273414,  1.24828893],\n",
       "       [ 0.89076483, -0.61969688],\n",
       "       [ 2.14458695,  0.38842245],\n",
       "       [ 2.14458695, -0.82725086],\n",
       "       [ 0.98721269, -1.09410598],\n",
       "       [ 0.11918199,  1.54479462],\n",
       "       [-0.94174441,  0.50702472],\n",
       "       [-1.23108798,  0.26982017],\n",
       "       [ 0.40852556,  0.59597643],\n",
       "       [ 0.11918199,  0.1512179 ],\n",
       "       [ 0.21562985,  0.03261563],\n",
       "       [ 2.04813909,  2.16745656],\n",
       "       [-0.07371372, -0.38249233],\n",
       "       [-0.26660943,  0.80353041],\n",
       "       [-1.42398369, -0.20458892],\n",
       "       [ 1.08366054,  0.12156733],\n",
       "       [ 0.3120777 ,  0.06226619],\n",
       "       [ 0.11918199,  0.03261563],\n",
       "       [ 0.98721269, -1.03480484],\n",
       "       [-0.55595299,  1.48549348],\n",
       "       [-1.13464012, -1.62781621],\n",
       "       [ 1.27655625,  2.25640826],\n",
       "       [-1.42398369, -0.11563722],\n",
       "       [-1.80977511, -1.50921394],\n",
       "       [ 0.89076483, -1.18305768],\n",
       "       [ 2.14458695, -0.70864859],\n",
       "       [ 0.60142127, -0.91620257],\n",
       "       [-1.23108798, -1.42026223],\n",
       "       [-0.45950514, -0.85690143],\n",
       "       [-0.84529656, -0.26389006],\n",
       "       [ 1.46945196,  2.16745656],\n",
       "       [ 0.40852556,  1.01108439],\n",
       "       [ 0.02273414, -0.44179347],\n",
       "       [-1.13464012, -1.18305768],\n",
       "       [-0.7488487 ,  0.56632586],\n",
       "       [ 0.11918199,  1.07038552],\n",
       "       [-0.55595299,  1.39654178],\n",
       "       [ 0.11918199,  1.90060144],\n",
       "       [ 0.21562985,  2.13780599],\n",
       "       [ 1.46945196,  1.01108439],\n",
       "       [-1.71332725,  0.12156733],\n",
       "       [-0.26660943, -0.50109461],\n",
       "       [ 0.11918199,  0.77387984],\n",
       "       [ 0.89076483, -1.33131052],\n",
       "       [-0.26660943, -0.29354063],\n",
       "       [ 2.14458695, -1.06445541],\n",
       "       [ 0.40852556,  0.29947074],\n",
       "       [-0.17016157,  1.63374632],\n",
       "       [ 0.79431698, -0.85690143],\n",
       "       [-0.94174441,  1.57444519],\n",
       "       [ 0.11918199, -0.26389006],\n",
       "       [-1.23108798,  0.50702472],\n",
       "       [ 0.11918199, -0.82725086],\n",
       "       [ 1.08366054, -1.00515427],\n",
       "       [ 0.98721269,  1.81164973],\n",
       "       [-1.42398369, -0.64934745],\n",
       "       [ 0.98721269, -1.21270825],\n",
       "       [-1.32753583, -0.44179347],\n",
       "       [ 0.3120777 ,  0.06226619],\n",
       "       [-0.26660943, -0.59004631],\n",
       "       [-0.7488487 ,  1.10003609],\n",
       "       [ 1.56589982,  1.01108439],\n",
       "       [-1.03819227,  0.59597643],\n",
       "       [ 0.40852556,  0.09191676],\n",
       "       [-0.94174441, -0.3231912 ],\n",
       "       [ 1.1801084 , -0.76794972],\n",
       "       [-1.90622296, -0.53074518],\n",
       "       [ 1.08366054, -1.24235882],\n",
       "       [ 0.3120777 ,  0.26982017],\n",
       "       [-0.7488487 , -1.62781621],\n",
       "       [-0.26660943, -1.33131052],\n",
       "       [-0.26660943,  0.53667529],\n",
       "       [ 0.98721269,  1.90060144],\n",
       "       [-0.65240085, -0.11563722],\n",
       "       [-0.45950514,  1.2779395 ],\n",
       "       [ 0.3120777 , -0.53074518],\n",
       "       [ 1.85524338,  1.54479462],\n",
       "       [ 1.08366054,  0.47737415],\n",
       "       [ 2.04813909,  0.18086847],\n",
       "       [-1.71332725,  0.35877188],\n",
       "       [-0.17016157, -0.20458892],\n",
       "       [-0.65240085,  0.56632586],\n",
       "       [ 1.37300411,  1.30759007],\n",
       "       [ 1.08366054, -0.91620257],\n",
       "       [ 1.85524338, -1.09410598],\n",
       "       [-0.7488487 ,  0.50702472],\n",
       "       [-1.32753583, -1.12375655],\n",
       "       [ 0.79431698,  0.35877188],\n",
       "       [-0.84529656,  0.38842245],\n",
       "       [-0.7488487 ,  0.29947074],\n",
       "       [-1.03819227,  1.98955314],\n",
       "       [-0.07371372,  0.06226619],\n",
       "       [ 1.37300411,  2.37501053],\n",
       "       [-0.07371372,  0.1512179 ],\n",
       "       [-0.07371372,  1.98955314],\n",
       "       [-0.7488487 ,  0.26982017],\n",
       "       [-1.13464012,  0.32912131],\n",
       "       [ 0.3120777 , -0.29354063],\n",
       "       [ 0.98721269, -1.18305768],\n",
       "       [ 1.37300411,  0.59597643],\n",
       "       [-1.52043154, -1.5388645 ],\n",
       "       [-0.94174441, -0.76794972],\n",
       "       [-1.13464012,  0.06226619],\n",
       "       [ 0.40852556, -0.47144404],\n",
       "       [-1.90622296, -0.76794972],\n",
       "       [ 0.40852556,  0.26982017],\n",
       "       [-0.26660943,  0.21051904],\n",
       "       [-0.55595299,  0.47737415],\n",
       "       [-0.36305728, -0.79760029],\n",
       "       [-0.26660943,  0.03261563],\n",
       "       [-0.07371372,  0.21051904],\n",
       "       [-0.26660943,  0.1512179 ],\n",
       "       [ 0.3120777 , -0.56039574],\n",
       "       [ 0.79431698,  0.77387984],\n",
       "       [ 0.98721269,  2.01920371],\n",
       "       [-0.17016157, -0.29354063],\n",
       "       [-1.03819227, -0.47144404],\n",
       "       [-0.26660943, -0.35284176],\n",
       "       [ 0.11918199, -0.3231912 ],\n",
       "       [-0.26660943, -0.76794972],\n",
       "       [-0.07371372, -1.09410598],\n",
       "       [-0.26660943,  0.06226619],\n",
       "       [ 0.50497341,  1.7523486 ],\n",
       "       [-0.36305728,  1.24828893],\n",
       "       [ 0.79431698,  1.39654178],\n",
       "       [ 0.98721269, -0.85690143],\n",
       "       [-1.71332725, -1.39061166],\n",
       "       [-0.84529656,  0.29947074],\n",
       "       [-0.84529656,  2.3157094 ]])"
      ]
     },
     "execution_count": 10,
     "metadata": {},
     "output_type": "execute_result"
    }
   ],
   "source": [
    "X_train_scaled"
   ]
  },
  {
   "cell_type": "code",
   "execution_count": 11,
   "metadata": {
    "ExecuteTime": {
     "end_time": "2022-05-27T11:47:15.707656Z",
     "start_time": "2022-05-27T11:47:15.690607Z"
    }
   },
   "outputs": [],
   "source": [
    "X_train_scaled = pd.DataFrame(X_train_scaled, columns=X_train.columns)\n",
    "X_test_scaled = pd.DataFrame(X_test_scaled, columns=X_test.columns)"
   ]
  },
  {
   "cell_type": "code",
   "execution_count": 12,
   "metadata": {
    "ExecuteTime": {
     "end_time": "2022-05-27T11:47:16.152355Z",
     "start_time": "2022-05-27T11:47:16.112325Z"
    }
   },
   "outputs": [
    {
     "data": {
      "text/html": [
       "<div>\n",
       "<style scoped>\n",
       "    .dataframe tbody tr th:only-of-type {\n",
       "        vertical-align: middle;\n",
       "    }\n",
       "\n",
       "    .dataframe tbody tr th {\n",
       "        vertical-align: top;\n",
       "    }\n",
       "\n",
       "    .dataframe thead th {\n",
       "        text-align: right;\n",
       "    }\n",
       "</style>\n",
       "<table border=\"1\" class=\"dataframe\">\n",
       "  <thead>\n",
       "    <tr style=\"text-align: right;\">\n",
       "      <th></th>\n",
       "      <th>Age</th>\n",
       "      <th>EstimatedSalary</th>\n",
       "    </tr>\n",
       "  </thead>\n",
       "  <tbody>\n",
       "    <tr>\n",
       "      <th>0</th>\n",
       "      <td>0.022734</td>\n",
       "      <td>-0.263890</td>\n",
       "    </tr>\n",
       "    <tr>\n",
       "      <th>1</th>\n",
       "      <td>0.794317</td>\n",
       "      <td>-1.420262</td>\n",
       "    </tr>\n",
       "    <tr>\n",
       "      <th>2</th>\n",
       "      <td>-0.266609</td>\n",
       "      <td>-0.382492</td>\n",
       "    </tr>\n",
       "    <tr>\n",
       "      <th>3</th>\n",
       "      <td>0.890765</td>\n",
       "      <td>1.277940</td>\n",
       "    </tr>\n",
       "    <tr>\n",
       "      <th>4</th>\n",
       "      <td>0.312078</td>\n",
       "      <td>-0.204589</td>\n",
       "    </tr>\n",
       "    <tr>\n",
       "      <th>...</th>\n",
       "      <td>...</td>\n",
       "      <td>...</td>\n",
       "    </tr>\n",
       "    <tr>\n",
       "      <th>275</th>\n",
       "      <td>0.794317</td>\n",
       "      <td>1.396542</td>\n",
       "    </tr>\n",
       "    <tr>\n",
       "      <th>276</th>\n",
       "      <td>0.987213</td>\n",
       "      <td>-0.856901</td>\n",
       "    </tr>\n",
       "    <tr>\n",
       "      <th>277</th>\n",
       "      <td>-1.713327</td>\n",
       "      <td>-1.390612</td>\n",
       "    </tr>\n",
       "    <tr>\n",
       "      <th>278</th>\n",
       "      <td>-0.845297</td>\n",
       "      <td>0.299471</td>\n",
       "    </tr>\n",
       "    <tr>\n",
       "      <th>279</th>\n",
       "      <td>-0.845297</td>\n",
       "      <td>2.315709</td>\n",
       "    </tr>\n",
       "  </tbody>\n",
       "</table>\n",
       "<p>280 rows × 2 columns</p>\n",
       "</div>"
      ],
      "text/plain": [
       "          Age  EstimatedSalary\n",
       "0    0.022734        -0.263890\n",
       "1    0.794317        -1.420262\n",
       "2   -0.266609        -0.382492\n",
       "3    0.890765         1.277940\n",
       "4    0.312078        -0.204589\n",
       "..        ...              ...\n",
       "275  0.794317         1.396542\n",
       "276  0.987213        -0.856901\n",
       "277 -1.713327        -1.390612\n",
       "278 -0.845297         0.299471\n",
       "279 -0.845297         2.315709\n",
       "\n",
       "[280 rows x 2 columns]"
      ]
     },
     "execution_count": 12,
     "metadata": {},
     "output_type": "execute_result"
    }
   ],
   "source": [
    "X_train_scaled"
   ]
  },
  {
   "cell_type": "code",
   "execution_count": 13,
   "metadata": {
    "ExecuteTime": {
     "end_time": "2022-05-27T11:47:35.442686Z",
     "start_time": "2022-05-27T11:47:35.355893Z"
    }
   },
   "outputs": [
    {
     "data": {
      "text/html": [
       "<div>\n",
       "<style scoped>\n",
       "    .dataframe tbody tr th:only-of-type {\n",
       "        vertical-align: middle;\n",
       "    }\n",
       "\n",
       "    .dataframe tbody tr th {\n",
       "        vertical-align: top;\n",
       "    }\n",
       "\n",
       "    .dataframe thead th {\n",
       "        text-align: right;\n",
       "    }\n",
       "</style>\n",
       "<table border=\"1\" class=\"dataframe\">\n",
       "  <thead>\n",
       "    <tr style=\"text-align: right;\">\n",
       "      <th></th>\n",
       "      <th>Age</th>\n",
       "      <th>EstimatedSalary</th>\n",
       "    </tr>\n",
       "  </thead>\n",
       "  <tbody>\n",
       "    <tr>\n",
       "      <th>count</th>\n",
       "      <td>280.0</td>\n",
       "      <td>280.0</td>\n",
       "    </tr>\n",
       "    <tr>\n",
       "      <th>mean</th>\n",
       "      <td>37.8</td>\n",
       "      <td>69900.0</td>\n",
       "    </tr>\n",
       "    <tr>\n",
       "      <th>std</th>\n",
       "      <td>10.4</td>\n",
       "      <td>33786.6</td>\n",
       "    </tr>\n",
       "    <tr>\n",
       "      <th>min</th>\n",
       "      <td>18.0</td>\n",
       "      <td>15000.0</td>\n",
       "    </tr>\n",
       "    <tr>\n",
       "      <th>25%</th>\n",
       "      <td>30.0</td>\n",
       "      <td>43750.0</td>\n",
       "    </tr>\n",
       "    <tr>\n",
       "      <th>50%</th>\n",
       "      <td>37.0</td>\n",
       "      <td>70500.0</td>\n",
       "    </tr>\n",
       "    <tr>\n",
       "      <th>75%</th>\n",
       "      <td>46.0</td>\n",
       "      <td>87000.0</td>\n",
       "    </tr>\n",
       "    <tr>\n",
       "      <th>max</th>\n",
       "      <td>60.0</td>\n",
       "      <td>150000.0</td>\n",
       "    </tr>\n",
       "  </tbody>\n",
       "</table>\n",
       "</div>"
      ],
      "text/plain": [
       "         Age  EstimatedSalary\n",
       "count  280.0            280.0\n",
       "mean    37.8          69900.0\n",
       "std     10.4          33786.6\n",
       "min     18.0          15000.0\n",
       "25%     30.0          43750.0\n",
       "50%     37.0          70500.0\n",
       "75%     46.0          87000.0\n",
       "max     60.0         150000.0"
      ]
     },
     "execution_count": 13,
     "metadata": {},
     "output_type": "execute_result"
    }
   ],
   "source": [
    "np.round(X_train.describe(), 1)"
   ]
  },
  {
   "cell_type": "code",
   "execution_count": 14,
   "metadata": {
    "ExecuteTime": {
     "end_time": "2022-05-27T11:47:36.615992Z",
     "start_time": "2022-05-27T11:47:36.555790Z"
    }
   },
   "outputs": [
    {
     "data": {
      "text/html": [
       "<div>\n",
       "<style scoped>\n",
       "    .dataframe tbody tr th:only-of-type {\n",
       "        vertical-align: middle;\n",
       "    }\n",
       "\n",
       "    .dataframe tbody tr th {\n",
       "        vertical-align: top;\n",
       "    }\n",
       "\n",
       "    .dataframe thead th {\n",
       "        text-align: right;\n",
       "    }\n",
       "</style>\n",
       "<table border=\"1\" class=\"dataframe\">\n",
       "  <thead>\n",
       "    <tr style=\"text-align: right;\">\n",
       "      <th></th>\n",
       "      <th>Age</th>\n",
       "      <th>EstimatedSalary</th>\n",
       "    </tr>\n",
       "  </thead>\n",
       "  <tbody>\n",
       "    <tr>\n",
       "      <th>count</th>\n",
       "      <td>280.0</td>\n",
       "      <td>280.0</td>\n",
       "    </tr>\n",
       "    <tr>\n",
       "      <th>mean</th>\n",
       "      <td>0.0</td>\n",
       "      <td>0.0</td>\n",
       "    </tr>\n",
       "    <tr>\n",
       "      <th>std</th>\n",
       "      <td>1.0</td>\n",
       "      <td>1.0</td>\n",
       "    </tr>\n",
       "    <tr>\n",
       "      <th>min</th>\n",
       "      <td>-1.9</td>\n",
       "      <td>-1.6</td>\n",
       "    </tr>\n",
       "    <tr>\n",
       "      <th>25%</th>\n",
       "      <td>-0.7</td>\n",
       "      <td>-0.8</td>\n",
       "    </tr>\n",
       "    <tr>\n",
       "      <th>50%</th>\n",
       "      <td>-0.1</td>\n",
       "      <td>0.0</td>\n",
       "    </tr>\n",
       "    <tr>\n",
       "      <th>75%</th>\n",
       "      <td>0.8</td>\n",
       "      <td>0.5</td>\n",
       "    </tr>\n",
       "    <tr>\n",
       "      <th>max</th>\n",
       "      <td>2.1</td>\n",
       "      <td>2.4</td>\n",
       "    </tr>\n",
       "  </tbody>\n",
       "</table>\n",
       "</div>"
      ],
      "text/plain": [
       "         Age  EstimatedSalary\n",
       "count  280.0            280.0\n",
       "mean     0.0              0.0\n",
       "std      1.0              1.0\n",
       "min     -1.9             -1.6\n",
       "25%     -0.7             -0.8\n",
       "50%     -0.1              0.0\n",
       "75%      0.8              0.5\n",
       "max      2.1              2.4"
      ]
     },
     "execution_count": 14,
     "metadata": {},
     "output_type": "execute_result"
    }
   ],
   "source": [
    "np.round(X_train_scaled.describe(), 1)"
   ]
  },
  {
   "cell_type": "markdown",
   "metadata": {},
   "source": [
    "# Effect of Scaling"
   ]
  },
  {
   "cell_type": "code",
   "execution_count": 15,
   "metadata": {
    "ExecuteTime": {
     "end_time": "2022-05-27T11:48:25.205433Z",
     "start_time": "2022-05-27T11:48:24.685085Z"
    }
   },
   "outputs": [
    {
     "data": {
      "image/png": "[encoded data removed]",
      "text/plain": [
       "<Figure size 864x360 with 2 Axes>"
      ]
     },
     "metadata": {
      "needs_background": "light"
     },
     "output_type": "display_data"
    }
   ],
   "source": [
    "fig, (ax1, ax2) = plt.subplots(ncols=2, figsize=(12, 5))\n",
    "\n",
    "ax1.scatter(X_train['Age'], X_train['EstimatedSalary'])\n",
    "ax1.set_title(\"Before Scaling\")\n",
    "ax2.scatter(X_train_scaled['Age'], X_train_scaled['EstimatedSalary'],color='red')\n",
    "ax2.set_title(\"After Scaling\")\n",
    "plt.show()"
   ]
  },
  {
   "cell_type": "code",
   "execution_count": 16,
   "metadata": {
    "ExecuteTime": {
     "end_time": "2022-05-27T11:48:35.147634Z",
     "start_time": "2022-05-27T11:48:34.712046Z"
    }
   },
   "outputs": [
    {
     "data": {
      "image/png": "[encoded data removed]",
      "text/plain": [
       "<Figure size 864x360 with 2 Axes>"
      ]
     },
     "metadata": {
      "needs_background": "light"
     },
     "output_type": "display_data"
    }
   ],
   "source": [
    "fig, (ax1, ax2) = plt.subplots(ncols=2, figsize=(12, 5))\n",
    "\n",
    "# before scaling\n",
    "ax1.set_title('Before Scaling')\n",
    "sns.kdeplot(X_train['Age'], ax=ax1)\n",
    "sns.kdeplot(X_train['EstimatedSalary'], ax=ax1)\n",
    "\n",
    "# after scaling\n",
    "ax2.set_title('After Standard Scaling')\n",
    "sns.kdeplot(X_train_scaled['Age'], ax=ax2)\n",
    "sns.kdeplot(X_train_scaled['EstimatedSalary'], ax=ax2)\n",
    "plt.show()"
   ]
  },
  {
   "cell_type": "markdown",
   "metadata": {},
   "source": [
    "# Comparison of Distributions"
   ]
  },
  {
   "cell_type": "code",
   "execution_count": 17,
   "metadata": {
    "ExecuteTime": {
     "end_time": "2022-05-27T11:49:12.483788Z",
     "start_time": "2022-05-27T11:49:12.007619Z"
    }
   },
   "outputs": [
    {
     "data": {
      "image/png": "[encoded data removed]",
      "text/plain": [
       "<Figure size 864x360 with 2 Axes>"
      ]
     },
     "metadata": {
      "needs_background": "light"
     },
     "output_type": "display_data"
    }
   ],
   "source": [
    "fig, (ax1, ax2) = plt.subplots(ncols=2, figsize=(12, 5))\n",
    "\n",
    "# before scaling\n",
    "ax1.set_title('Age Distribution Before Scaling')\n",
    "sns.kdeplot(X_train['Age'], ax=ax1)\n",
    "\n",
    "# after scaling\n",
    "ax2.set_title('Age Distribution After Standard Scaling')\n",
    "sns.kdeplot(X_train_scaled['Age'], ax=ax2)\n",
    "plt.show()"
   ]
  },
  {
   "cell_type": "code",
   "execution_count": 18,
   "metadata": {
    "ExecuteTime": {
     "end_time": "2022-05-27T11:49:16.881912Z",
     "start_time": "2022-05-27T11:49:16.285517Z"
    }
   },
   "outputs": [
    {
     "data": {
      "image/png": "[encoded data removed]",
      "text/plain": [
       "<Figure size 864x360 with 2 Axes>"
      ]
     },
     "metadata": {
      "needs_background": "light"
     },
     "output_type": "display_data"
    }
   ],
   "source": [
    "fig, (ax1, ax2) = plt.subplots(ncols=2, figsize=(12, 5))\n",
    "\n",
    "# before scaling\n",
    "ax1.set_title('Salary Distribution Before Scaling')\n",
    "sns.kdeplot(X_train['EstimatedSalary'], ax=ax1)\n",
    "\n",
    "# after scaling\n",
    "ax2.set_title('Salary Distribution Standard Scaling')\n",
    "sns.kdeplot(X_train_scaled['EstimatedSalary'], ax=ax2)\n",
    "plt.show()"
   ]
  },
  {
   "cell_type": "markdown",
   "metadata": {},
   "source": [
    "# Why scaling is important?"
   ]
  },
  {
   "cell_type": "code",
   "execution_count": 19,
   "metadata": {
    "ExecuteTime": {
     "end_time": "2022-05-27T11:49:33.458212Z",
     "start_time": "2022-05-27T11:49:33.219440Z"
    }
   },
   "outputs": [],
   "source": [
    "from sklearn.linear_model import LogisticRegression\n",
    "from sklearn.tree import DecisionTreeClassifier"
   ]
  },
  {
   "cell_type": "code",
   "execution_count": 20,
   "metadata": {
    "ExecuteTime": {
     "end_time": "2022-05-27T11:49:33.704938Z",
     "start_time": "2022-05-27T11:49:33.692503Z"
    }
   },
   "outputs": [],
   "source": [
    "lr = LogisticRegression()\n",
    "lr_scaled = LogisticRegression()"
   ]
  },
  {
   "cell_type": "code",
   "execution_count": 21,
   "metadata": {
    "ExecuteTime": {
     "end_time": "2022-05-27T11:49:36.732483Z",
     "start_time": "2022-05-27T11:49:36.668536Z"
    }
   },
   "outputs": [
    {
     "data": {
      "text/html": [
       "<style>#sk-container-id-1 {color: black;background-color: white;}#sk-container-id-1 pre{padding: 0;}#sk-container-id-1 div.sk-toggleable {background-color: white;}#sk-container-id-1 label.sk-toggleable__label {cursor: pointer;display: block;width: 100%;margin-bottom: 0;padding: 0.3em;box-sizing: border-box;text-align: center;}#sk-container-id-1 label.sk-toggleable__label-arrow:before {content: \"▸\";float: left;margin-right: 0.25em;color: #696969;}#sk-container-id-1 label.sk-toggleable__label-arrow:hover:before {color: black;}#sk-container-id-1 div.sk-estimator:hover label.sk-toggleable__label-arrow:before {color: black;}#sk-container-id-1 div.sk-toggleable__content {max-height: 0;max-width: 0;overflow: hidden;text-align: left;background-color: #f0f8ff;}#sk-container-id-1 div.sk-toggleable__content pre {margin: 0.2em;color: black;border-radius: 0.25em;background-color: #f0f8ff;}#sk-container-id-1 input.sk-toggleable__control:checked~div.sk-toggleable__content {max-height: 200px;max-width: 100%;overflow: auto;}#sk-container-id-1 input.sk-toggleable__control:checked~label.sk-toggleable__label-arrow:before {content: \"▾\";}#sk-container-id-1 div.sk-estimator input.sk-toggleable__control:checked~label.sk-toggleable__label {background-color: #d4ebff;}#sk-container-id-1 div.sk-label input.sk-toggleable__control:checked~label.sk-toggleable__label {background-color: #d4ebff;}#sk-container-id-1 input.sk-hidden--visually {border: 0;clip: rect(1px 1px 1px 1px);clip: rect(1px, 1px, 1px, 1px);height: 1px;margin: -1px;overflow: hidden;padding: 0;position: absolute;width: 1px;}#sk-container-id-1 div.sk-estimator {font-family: monospace;background-color: #f0f8ff;border: 1px dotted black;border-radius: 0.25em;box-sizing: border-box;margin-bottom: 0.5em;}#sk-container-id-1 div.sk-estimator:hover {background-color: #d4ebff;}#sk-container-id-1 div.sk-parallel-item::after {content: \"\";width: 100%;border-bottom: 1px solid gray;flex-grow: 1;}#sk-container-id-1 div.sk-label:hover label.sk-toggleable__label {background-color: #d4ebff;}#sk-container-id-1 div.sk-serial::before {content: \"\";position: absolute;border-left: 1px solid gray;box-sizing: border-box;top: 0;bottom: 0;left: 50%;z-index: 0;}#sk-container-id-1 div.sk-serial {display: flex;flex-direction: column;align-items: center;background-color: white;padding-right: 0.2em;padding-left: 0.2em;position: relative;}#sk-container-id-1 div.sk-item {position: relative;z-index: 1;}#sk-container-id-1 div.sk-parallel {display: flex;align-items: stretch;justify-content: center;background-color: white;position: relative;}#sk-container-id-1 div.sk-item::before, #sk-container-id-1 div.sk-parallel-item::before {content: \"\";position: absolute;border-left: 1px solid gray;box-sizing: border-box;top: 0;bottom: 0;left: 50%;z-index: -1;}#sk-container-id-1 div.sk-parallel-item {display: flex;flex-direction: column;z-index: 1;position: relative;background-color: white;}#sk-container-id-1 div.sk-parallel-item:first-child::after {align-self: flex-end;width: 50%;}#sk-container-id-1 div.sk-parallel-item:last-child::after {align-self: flex-start;width: 50%;}#sk-container-id-1 div.sk-parallel-item:only-child::after {width: 0;}#sk-container-id-1 div.sk-dashed-wrapped {border: 1px dashed gray;margin: 0 0.4em 0.5em 0.4em;box-sizing: border-box;padding-bottom: 0.4em;background-color: white;}#sk-container-id-1 div.sk-label label {font-family: monospace;font-weight: bold;display: inline-block;line-height: 1.2em;}#sk-container-id-1 div.sk-label-container {text-align: center;}#sk-container-id-1 div.sk-container {/* jupyter's `normalize.less` sets `[hidden] { display: none; }` but bootstrap.min.css set `[hidden] { display: none !important; }` so we also need the `!important` here to be able to override the default hidden behavior on the sphinx rendered scikit-learn.org. See: https://github.com/scikit-learn/scikit-learn/issues/21755 */display: inline-block !important;position: relative;}#sk-container-id-1 div.sk-text-repr-fallback {display: none;}</style><div id=\"sk-container-id-1\" class=\"sk-top-container\"><div class=\"sk-text-repr-fallback\"><pre>LogisticRegression()</pre><b>In a Jupyter environment, please rerun this cell to show the HTML representation or trust the notebook. <br />On GitHub, the HTML representation is unable to render, please try loading this page with nbviewer.org.</b></div><div class=\"sk-container\" hidden><div class=\"sk-item\"><div class=\"sk-estimator sk-toggleable\"><input class=\"sk-toggleable__control sk-hidden--visually\" id=\"sk-estimator-id-1\" type=\"checkbox\" checked><label for=\"sk-estimator-id-1\" class=\"sk-toggleable__label sk-toggleable__label-arrow\">LogisticRegression</label><div class=\"sk-toggleable__content\"><pre>LogisticRegression()</pre></div></div></div></div></div>"
      ],
      "text/plain": [
       "LogisticRegression()"
      ]
     },
     "execution_count": 21,
     "metadata": {},
     "output_type": "execute_result"
    }
   ],
   "source": [
    "lr.fit(X_train,y_train)\n",
    "lr_scaled.fit(X_train_scaled,y_train)"
   ]
  },
  {
   "cell_type": "code",
   "execution_count": 22,
   "metadata": {
    "ExecuteTime": {
     "end_time": "2022-05-27T11:49:45.136642Z",
     "start_time": "2022-05-27T11:49:45.109172Z"
    }
   },
   "outputs": [],
   "source": [
    "y_pred = lr.predict(X_test)\n",
    "y_pred_scaled = lr_scaled.predict(X_test_scaled)"
   ]
  },
  {
   "cell_type": "code",
   "execution_count": 23,
   "metadata": {
    "ExecuteTime": {
     "end_time": "2022-05-27T11:49:49.461597Z",
     "start_time": "2022-05-27T11:49:49.446233Z"
    }
   },
   "outputs": [],
   "source": [
    "from sklearn.metrics import accuracy_score"
   ]
  },
  {
   "cell_type": "code",
   "execution_count": 24,
   "metadata": {
    "ExecuteTime": {
     "end_time": "2022-05-27T11:49:49.898795Z",
     "start_time": "2022-05-27T11:49:49.875105Z"
    }
   },
   "outputs": [
    {
     "name": "stdout",
     "output_type": "stream",
     "text": [
      "Actual 0.6416666666666667\n",
      "Scaled 0.8416666666666667\n"
     ]
    }
   ],
   "source": [
    "print(\"Actual\",accuracy_score(y_test,y_pred))\n",
    "print(\"Scaled\",accuracy_score(y_test,y_pred_scaled))"
   ]
  },
  {
   "cell_type": "code",
   "execution_count": 25,
   "metadata": {
    "ExecuteTime": {
     "end_time": "2022-05-27T11:49:59.473949Z",
     "start_time": "2022-05-27T11:49:59.463397Z"
    }
   },
   "outputs": [],
   "source": [
    "dt = DecisionTreeClassifier()\n",
    "dt_scaled = DecisionTreeClassifier()"
   ]
  },
  {
   "cell_type": "code",
   "execution_count": 26,
   "metadata": {
    "ExecuteTime": {
     "end_time": "2022-05-27T11:50:00.036116Z",
     "start_time": "2022-05-27T11:49:59.987712Z"
    }
   },
   "outputs": [
    {
     "data": {
      "text/html": [
       "<style>#sk-container-id-2 {color: black;background-color: white;}#sk-container-id-2 pre{padding: 0;}#sk-container-id-2 div.sk-toggleable {background-color: white;}#sk-container-id-2 label.sk-toggleable__label {cursor: pointer;display: block;width: 100%;margin-bottom: 0;padding: 0.3em;box-sizing: border-box;text-align: center;}#sk-container-id-2 label.sk-toggleable__label-arrow:before {content: \"▸\";float: left;margin-right: 0.25em;color: #696969;}#sk-container-id-2 label.sk-toggleable__label-arrow:hover:before {color: black;}#sk-container-id-2 div.sk-estimator:hover label.sk-toggleable__label-arrow:before {color: black;}#sk-container-id-2 div.sk-toggleable__content {max-height: 0;max-width: 0;overflow: hidden;text-align: left;background-color: #f0f8ff;}#sk-container-id-2 div.sk-toggleable__content pre {margin: 0.2em;color: black;border-radius: 0.25em;background-color: #f0f8ff;}#sk-container-id-2 input.sk-toggleable__control:checked~div.sk-toggleable__content {max-height: 200px;max-width: 100%;overflow: auto;}#sk-container-id-2 input.sk-toggleable__control:checked~label.sk-toggleable__label-arrow:before {content: \"▾\";}#sk-container-id-2 div.sk-estimator input.sk-toggleable__control:checked~label.sk-toggleable__label {background-color: #d4ebff;}#sk-container-id-2 div.sk-label input.sk-toggleable__control:checked~label.sk-toggleable__label {background-color: #d4ebff;}#sk-container-id-2 input.sk-hidden--visually {border: 0;clip: rect(1px 1px 1px 1px);clip: rect(1px, 1px, 1px, 1px);height: 1px;margin: -1px;overflow: hidden;padding: 0;position: absolute;width: 1px;}#sk-container-id-2 div.sk-estimator {font-family: monospace;background-color: #f0f8ff;border: 1px dotted black;border-radius: 0.25em;box-sizing: border-box;margin-bottom: 0.5em;}#sk-container-id-2 div.sk-estimator:hover {background-color: #d4ebff;}#sk-container-id-2 div.sk-parallel-item::after {content: \"\";width: 100%;border-bottom: 1px solid gray;flex-grow: 1;}#sk-container-id-2 div.sk-label:hover label.sk-toggleable__label {background-color: #d4ebff;}#sk-container-id-2 div.sk-serial::before {content: \"\";position: absolute;border-left: 1px solid gray;box-sizing: border-box;top: 0;bottom: 0;left: 50%;z-index: 0;}#sk-container-id-2 div.sk-serial {display: flex;flex-direction: column;align-items: center;background-color: white;padding-right: 0.2em;padding-left: 0.2em;position: relative;}#sk-container-id-2 div.sk-item {position: relative;z-index: 1;}#sk-container-id-2 div.sk-parallel {display: flex;align-items: stretch;justify-content: center;background-color: white;position: relative;}#sk-container-id-2 div.sk-item::before, #sk-container-id-2 div.sk-parallel-item::before {content: \"\";position: absolute;border-left: 1px solid gray;box-sizing: border-box;top: 0;bottom: 0;left: 50%;z-index: -1;}#sk-container-id-2 div.sk-parallel-item {display: flex;flex-direction: column;z-index: 1;position: relative;background-color: white;}#sk-container-id-2 div.sk-parallel-item:first-child::after {align-self: flex-end;width: 50%;}#sk-container-id-2 div.sk-parallel-item:last-child::after {align-self: flex-start;width: 50%;}#sk-container-id-2 div.sk-parallel-item:only-child::after {width: 0;}#sk-container-id-2 div.sk-dashed-wrapped {border: 1px dashed gray;margin: 0 0.4em 0.5em 0.4em;box-sizing: border-box;padding-bottom: 0.4em;background-color: white;}#sk-container-id-2 div.sk-label label {font-family: monospace;font-weight: bold;display: inline-block;line-height: 1.2em;}#sk-container-id-2 div.sk-label-container {text-align: center;}#sk-container-id-2 div.sk-container {/* jupyter's `normalize.less` sets `[hidden] { display: none; }` but bootstrap.min.css set `[hidden] { display: none !important; }` so we also need the `!important` here to be able to override the default hidden behavior on the sphinx rendered scikit-learn.org. See: https://github.com/scikit-learn/scikit-learn/issues/21755 */display: inline-block !important;position: relative;}#sk-container-id-2 div.sk-text-repr-fallback {display: none;}</style><div id=\"sk-container-id-2\" class=\"sk-top-container\"><div class=\"sk-text-repr-fallback\"><pre>DecisionTreeClassifier()</pre><b>In a Jupyter environment, please rerun this cell to show the HTML representation or trust the notebook. <br />On GitHub, the HTML representation is unable to render, please try loading this page with nbviewer.org.</b></div><div class=\"sk-container\" hidden><div class=\"sk-item\"><div class=\"sk-estimator sk-toggleable\"><input class=\"sk-toggleable__control sk-hidden--visually\" id=\"sk-estimator-id-2\" type=\"checkbox\" checked><label for=\"sk-estimator-id-2\" class=\"sk-toggleable__label sk-toggleable__label-arrow\">DecisionTreeClassifier</label><div class=\"sk-toggleable__content\"><pre>DecisionTreeClassifier()</pre></div></div></div></div></div>"
      ],
      "text/plain": [
       "DecisionTreeClassifier()"
      ]
     },
     "execution_count": 26,
     "metadata": {},
     "output_type": "execute_result"
    }
   ],
   "source": [
    "dt.fit(X_train,y_train)\n",
    "dt_scaled.fit(X_train_scaled,y_train)"
   ]
  },
  {
   "cell_type": "code",
   "execution_count": 27,
   "metadata": {
    "ExecuteTime": {
     "end_time": "2022-05-27T11:50:01.738194Z",
     "start_time": "2022-05-27T11:50:01.712825Z"
    }
   },
   "outputs": [],
   "source": [
    "y_pred = dt.predict(X_test)\n",
    "y_pred_scaled = dt_scaled.predict(X_test_scaled)"
   ]
  },
  {
   "cell_type": "code",
   "execution_count": 28,
   "metadata": {
    "ExecuteTime": {
     "end_time": "2022-05-27T11:50:05.431965Z",
     "start_time": "2022-05-27T11:50:05.409953Z"
    }
   },
   "outputs": [
    {
     "name": "stdout",
     "output_type": "stream",
     "text": [
      "Actual 0.8833333333333333\n",
      "Scaled 0.8833333333333333\n"
     ]
    }
   ],
   "source": [
    "print(\"Actual\",accuracy_score(y_test,y_pred))\n",
    "print(\"Scaled\",accuracy_score(y_test,y_pred_scaled))"
   ]
  },
  {
   "cell_type": "code",
   "execution_count": 29,
   "metadata": {
    "ExecuteTime": {
     "end_time": "2022-05-27T11:50:13.792566Z",
     "start_time": "2022-05-27T11:50:13.742903Z"
    }
   },
   "outputs": [
    {
     "data": {
      "text/html": [
       "<div>\n",
       "<style scoped>\n",
       "    .dataframe tbody tr th:only-of-type {\n",
       "        vertical-align: middle;\n",
       "    }\n",
       "\n",
       "    .dataframe tbody tr th {\n",
       "        vertical-align: top;\n",
       "    }\n",
       "\n",
       "    .dataframe thead th {\n",
       "        text-align: right;\n",
       "    }\n",
       "</style>\n",
       "<table border=\"1\" class=\"dataframe\">\n",
       "  <thead>\n",
       "    <tr style=\"text-align: right;\">\n",
       "      <th></th>\n",
       "      <th>Age</th>\n",
       "      <th>EstimatedSalary</th>\n",
       "      <th>Purchased</th>\n",
       "    </tr>\n",
       "  </thead>\n",
       "  <tbody>\n",
       "    <tr>\n",
       "      <th>count</th>\n",
       "      <td>400.000000</td>\n",
       "      <td>400.000000</td>\n",
       "      <td>400.000000</td>\n",
       "    </tr>\n",
       "    <tr>\n",
       "      <th>mean</th>\n",
       "      <td>37.655000</td>\n",
       "      <td>69742.500000</td>\n",
       "      <td>0.357500</td>\n",
       "    </tr>\n",
       "    <tr>\n",
       "      <th>std</th>\n",
       "      <td>10.482877</td>\n",
       "      <td>34096.960282</td>\n",
       "      <td>0.479864</td>\n",
       "    </tr>\n",
       "    <tr>\n",
       "      <th>min</th>\n",
       "      <td>18.000000</td>\n",
       "      <td>15000.000000</td>\n",
       "      <td>0.000000</td>\n",
       "    </tr>\n",
       "    <tr>\n",
       "      <th>25%</th>\n",
       "      <td>29.750000</td>\n",
       "      <td>43000.000000</td>\n",
       "      <td>0.000000</td>\n",
       "    </tr>\n",
       "    <tr>\n",
       "      <th>50%</th>\n",
       "      <td>37.000000</td>\n",
       "      <td>70000.000000</td>\n",
       "      <td>0.000000</td>\n",
       "    </tr>\n",
       "    <tr>\n",
       "      <th>75%</th>\n",
       "      <td>46.000000</td>\n",
       "      <td>88000.000000</td>\n",
       "      <td>1.000000</td>\n",
       "    </tr>\n",
       "    <tr>\n",
       "      <th>max</th>\n",
       "      <td>60.000000</td>\n",
       "      <td>150000.000000</td>\n",
       "      <td>1.000000</td>\n",
       "    </tr>\n",
       "  </tbody>\n",
       "</table>\n",
       "</div>"
      ],
      "text/plain": [
       "              Age  EstimatedSalary   Purchased\n",
       "count  400.000000       400.000000  400.000000\n",
       "mean    37.655000     69742.500000    0.357500\n",
       "std     10.482877     34096.960282    0.479864\n",
       "min     18.000000     15000.000000    0.000000\n",
       "25%     29.750000     43000.000000    0.000000\n",
       "50%     37.000000     70000.000000    0.000000\n",
       "75%     46.000000     88000.000000    1.000000\n",
       "max     60.000000    150000.000000    1.000000"
      ]
     },
     "execution_count": 29,
     "metadata": {},
     "output_type": "execute_result"
    }
   ],
   "source": [
    "df.describe()"
   ]
  },
  {
   "cell_type": "markdown",
   "metadata": {},
   "source": [
    "# Effect of Outlier"
   ]
  },
  {
   "cell_type": "code",
   "execution_count": 30,
   "metadata": {
    "ExecuteTime": {
     "end_time": "2022-05-27T11:50:22.595198Z",
     "start_time": "2022-05-27T11:50:22.320225Z"
    }
   },
   "outputs": [
    {
     "name": "stderr",
     "output_type": "stream",
     "text": [
      "/tmp/ipykernel_3480/2365817244.py:1: FutureWarning: The frame.append method is deprecated and will be removed from pandas in a future version. Use pandas.concat instead.\n",
      "  df = df.append(pd.DataFrame({'Age':[5,90,95],'EstimatedSalary':[1000,250000,350000],'Purchased':[0,1,1]}),ignore_index=True)\n"
     ]
    }
   ],
   "source": [
    "df = df.append(pd.DataFrame({'Age':[5,90,95],'EstimatedSalary':[1000,250000,350000],'Purchased':[0,1,1]}),ignore_index=True)"
   ]
  },
  {
   "cell_type": "code",
   "execution_count": 31,
   "metadata": {
    "ExecuteTime": {
     "end_time": "2022-05-27T11:50:25.022978Z",
     "start_time": "2022-05-27T11:50:24.971395Z"
    }
   },
   "outputs": [
    {
     "data": {
      "text/html": [
       "<div>\n",
       "<style scoped>\n",
       "    .dataframe tbody tr th:only-of-type {\n",
       "        vertical-align: middle;\n",
       "    }\n",
       "\n",
       "    .dataframe tbody tr th {\n",
       "        vertical-align: top;\n",
       "    }\n",
       "\n",
       "    .dataframe thead th {\n",
       "        text-align: right;\n",
       "    }\n",
       "</style>\n",
       "<table border=\"1\" class=\"dataframe\">\n",
       "  <thead>\n",
       "    <tr style=\"text-align: right;\">\n",
       "      <th></th>\n",
       "      <th>Age</th>\n",
       "      <th>EstimatedSalary</th>\n",
       "      <th>Purchased</th>\n",
       "    </tr>\n",
       "  </thead>\n",
       "  <tbody>\n",
       "    <tr>\n",
       "      <th>0</th>\n",
       "      <td>19</td>\n",
       "      <td>19000</td>\n",
       "      <td>0</td>\n",
       "    </tr>\n",
       "    <tr>\n",
       "      <th>1</th>\n",
       "      <td>35</td>\n",
       "      <td>20000</td>\n",
       "      <td>0</td>\n",
       "    </tr>\n",
       "    <tr>\n",
       "      <th>2</th>\n",
       "      <td>26</td>\n",
       "      <td>43000</td>\n",
       "      <td>0</td>\n",
       "    </tr>\n",
       "    <tr>\n",
       "      <th>3</th>\n",
       "      <td>27</td>\n",
       "      <td>57000</td>\n",
       "      <td>0</td>\n",
       "    </tr>\n",
       "    <tr>\n",
       "      <th>4</th>\n",
       "      <td>19</td>\n",
       "      <td>76000</td>\n",
       "      <td>0</td>\n",
       "    </tr>\n",
       "    <tr>\n",
       "      <th>...</th>\n",
       "      <td>...</td>\n",
       "      <td>...</td>\n",
       "      <td>...</td>\n",
       "    </tr>\n",
       "    <tr>\n",
       "      <th>398</th>\n",
       "      <td>36</td>\n",
       "      <td>33000</td>\n",
       "      <td>0</td>\n",
       "    </tr>\n",
       "    <tr>\n",
       "      <th>399</th>\n",
       "      <td>49</td>\n",
       "      <td>36000</td>\n",
       "      <td>1</td>\n",
       "    </tr>\n",
       "    <tr>\n",
       "      <th>400</th>\n",
       "      <td>5</td>\n",
       "      <td>1000</td>\n",
       "      <td>0</td>\n",
       "    </tr>\n",
       "    <tr>\n",
       "      <th>401</th>\n",
       "      <td>90</td>\n",
       "      <td>250000</td>\n",
       "      <td>1</td>\n",
       "    </tr>\n",
       "    <tr>\n",
       "      <th>402</th>\n",
       "      <td>95</td>\n",
       "      <td>350000</td>\n",
       "      <td>1</td>\n",
       "    </tr>\n",
       "  </tbody>\n",
       "</table>\n",
       "<p>403 rows × 3 columns</p>\n",
       "</div>"
      ],
      "text/plain": [
       "     Age  EstimatedSalary  Purchased\n",
       "0     19            19000          0\n",
       "1     35            20000          0\n",
       "2     26            43000          0\n",
       "3     27            57000          0\n",
       "4     19            76000          0\n",
       "..   ...              ...        ...\n",
       "398   36            33000          0\n",
       "399   49            36000          1\n",
       "400    5             1000          0\n",
       "401   90           250000          1\n",
       "402   95           350000          1\n",
       "\n",
       "[403 rows x 3 columns]"
      ]
     },
     "execution_count": 31,
     "metadata": {},
     "output_type": "execute_result"
    }
   ],
   "source": [
    "df"
   ]
  },
  {
   "cell_type": "code",
   "execution_count": 32,
   "metadata": {
    "ExecuteTime": {
     "end_time": "2022-05-27T11:50:28.928807Z",
     "start_time": "2022-05-27T11:50:28.584107Z"
    }
   },
   "outputs": [
    {
     "data": {
      "text/plain": [
       "<matplotlib.collections.PathCollection at 0x7fea0fc77e20>"
      ]
     },
     "execution_count": 32,
     "metadata": {},
     "output_type": "execute_result"
    },
    {
     "data": {
      "image/png": "[encoded data removed]",
      "text/plain": [
       "<Figure size 432x288 with 1 Axes>"
      ]
     },
     "metadata": {
      "needs_background": "light"
     },
     "output_type": "display_data"
    }
   ],
   "source": [
    "plt.scatter(df['Age'], df['EstimatedSalary'])"
   ]
  },
  {
   "cell_type": "code",
   "execution_count": 33,
   "metadata": {
    "ExecuteTime": {
     "end_time": "2022-05-27T11:50:33.059913Z",
     "start_time": "2022-05-27T11:50:33.025485Z"
    }
   },
   "outputs": [
    {
     "data": {
      "text/plain": [
       "((282, 2), (121, 2))"
      ]
     },
     "execution_count": 33,
     "metadata": {},
     "output_type": "execute_result"
    }
   ],
   "source": [
    "from sklearn.model_selection import train_test_split\n",
    "X_train, X_test, y_train, y_test = train_test_split(df.drop('Purchased', axis=1),\n",
    "                                                    df['Purchased'],\n",
    "                                                    test_size=0.3,\n",
    "                                                    random_state=0)\n",
    "\n",
    "X_train.shape, X_test.shape"
   ]
  },
  {
   "cell_type": "code",
   "execution_count": 34,
   "metadata": {
    "ExecuteTime": {
     "end_time": "2022-05-27T11:50:33.229081Z",
     "start_time": "2022-05-27T11:50:33.211387Z"
    }
   },
   "outputs": [],
   "source": [
    "from sklearn.preprocessing import StandardScaler\n",
    "\n",
    "scaler = StandardScaler()\n",
    "\n",
    "# fit the scaler to the train set, it will learn the parameters\n",
    "scaler.fit(X_train)\n",
    "\n",
    "# transform train and test sets\n",
    "X_train_scaled = scaler.transform(X_train)\n",
    "X_test_scaled = scaler.transform(X_test)"
   ]
  },
  {
   "cell_type": "code",
   "execution_count": 35,
   "metadata": {
    "ExecuteTime": {
     "end_time": "2022-05-27T11:50:33.431029Z",
     "start_time": "2022-05-27T11:50:33.419249Z"
    }
   },
   "outputs": [],
   "source": [
    "X_train_scaled = pd.DataFrame(X_train_scaled, columns=X_train.columns)\n",
    "X_test_scaled = pd.DataFrame(X_test_scaled, columns=X_test.columns)"
   ]
  },
  {
   "cell_type": "code",
   "execution_count": 36,
   "metadata": {
    "ExecuteTime": {
     "end_time": "2022-05-27T11:50:36.128925Z",
     "start_time": "2022-05-27T11:50:35.747082Z"
    }
   },
   "outputs": [
    {
     "data": {
      "image/png": "[encoded data removed]",
      "text/plain": [
       "<Figure size 864x360 with 2 Axes>"
      ]
     },
     "metadata": {
      "needs_background": "light"
     },
     "output_type": "display_data"
    }
   ],
   "source": [
    "fig, (ax1, ax2) = plt.subplots(ncols=2, figsize=(12, 5))\n",
    "\n",
    "ax1.scatter(X_train['Age'], X_train['EstimatedSalary'])\n",
    "ax1.set_title(\"Before Scaling\")\n",
    "ax2.scatter(X_train_scaled['Age'], X_train_scaled['EstimatedSalary'],color='red')\n",
    "ax2.set_title(\"After Scaling\")\n",
    "plt.show()"
   ]
  },
  {
   "cell_type": "code",
   "execution_count": null,
   "metadata": {},
   "outputs": [],
   "source": []
  }
 ],
 "metadata": {
  "kernelspec": {
   "display_name": "Python 3 (ipykernel)",
   "language": "python",
   "name": "python3"
  },
  "language_info": {
   "codemirror_mode": {
    "name": "ipython",
    "version": 3
   },
   "file_extension": ".py",
   "mimetype": "text/x-python",
   "name": "python",
   "nbconvert_exporter": "python",
   "pygments_lexer": "ipython3",
   "version": "3.8.10"
  },
  "toc": {
   "base_numbering": 1,
   "nav_menu": {},
   "number_sections": true,
   "sideBar": true,
   "skip_h1_title": false,
   "title_cell": "Table of Contents",
   "title_sidebar": "Contents",
   "toc_cell": false,
   "toc_position": {},
   "toc_section_display": true,
   "toc_window_display": false
  }
 },
 "nbformat": 4,
 "nbformat_minor": 4
}
