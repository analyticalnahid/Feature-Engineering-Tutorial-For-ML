{
 "cells": [
  {
   "cell_type": "code",
   "execution_count": 1,
   "id": "bfc85bdb",
   "metadata": {
    "ExecuteTime": {
     "end_time": "2022-05-28T06:41:37.622482Z",
     "start_time": "2022-05-28T06:41:36.261589Z"
    }
   },
   "outputs": [],
   "source": [
    "import pandas as pd\n",
    "import numpy as np\n",
    "import matplotlib.pyplot as plt\n",
    "from mlxtend.feature_extraction import PrincipalComponentAnalysis\n",
    "from mlxtend.data import iris_data\n",
    "from mlxtend.preprocessing import standardize"
   ]
  },
  {
   "cell_type": "code",
   "execution_count": 2,
   "id": "bab6b70c",
   "metadata": {
    "ExecuteTime": {
     "end_time": "2022-05-28T06:41:37.630331Z",
     "start_time": "2022-05-28T06:41:37.624810Z"
    }
   },
   "outputs": [],
   "source": [
    "X,y = iris_data()\n",
    "X = standardize(X)"
   ]
  },
  {
   "cell_type": "code",
   "execution_count": 3,
   "id": "7e70991e",
   "metadata": {
    "ExecuteTime": {
     "end_time": "2022-05-28T06:41:37.665245Z",
     "start_time": "2022-05-28T06:41:37.632368Z"
    }
   },
   "outputs": [],
   "source": [
    "from sklearn.model_selection import train_test_split \n",
    "X_train,X_test,y_train,y_test = train_test_split(X,y,test_size=0.3)"
   ]
  },
  {
   "cell_type": "code",
   "execution_count": 4,
   "id": "46c053ab",
   "metadata": {
    "ExecuteTime": {
     "end_time": "2022-05-28T06:41:37.690446Z",
     "start_time": "2022-05-28T06:41:37.672624Z"
    }
   },
   "outputs": [],
   "source": [
    "pca = PrincipalComponentAnalysis(n_components=2)\n",
    "ft = pca.fit(X)\n",
    "x_pca = ft.transform(X)"
   ]
  },
  {
   "cell_type": "code",
   "execution_count": 5,
   "id": "9e3da362",
   "metadata": {
    "ExecuteTime": {
     "end_time": "2022-05-28T06:41:39.113169Z",
     "start_time": "2022-05-28T06:41:38.775718Z"
    }
   },
   "outputs": [
    {
     "data": {
      "image/png": "[encoded data removed]",
      "text/plain": [
       "<Figure size 432x288 with 1 Axes>"
      ]
     },
     "metadata": {
      "needs_background": "light"
     },
     "output_type": "display_data"
    }
   ],
   "source": [
    "with plt.style.context('seaborn-whitegrid'):\n",
    "    plt.figure(figsize=(6,4))\n",
    "    for lab,col in zip((0,1,2),('blue','red','green')):\n",
    "        plt.scatter(x_pca[y == lab,0], x_pca[y == lab,1],c=col, label=lab)\n",
    "    plt.xlabel('Principle Component 1')\n",
    "    plt.ylabel('Principle Component 2')\n",
    "    plt.legend(loc='lower center')\n",
    "    plt.tight_layout()\n",
    "    plt.show()"
   ]
  },
  {
   "cell_type": "code",
   "execution_count": null,
   "id": "bfbc3c90",
   "metadata": {},
   "outputs": [],
   "source": []
  }
 ],
 "metadata": {
  "kernelspec": {
   "display_name": "Python 3 (ipykernel)",
   "language": "python",
   "name": "python3"
  },
  "language_info": {
   "codemirror_mode": {
    "name": "ipython",
    "version": 3
   },
   "file_extension": ".py",
   "mimetype": "text/x-python",
   "name": "python",
   "nbconvert_exporter": "python",
   "pygments_lexer": "ipython3",
   "version": "3.8.10"
  },
  "toc": {
   "base_numbering": 1,
   "nav_menu": {},
   "number_sections": true,
   "sideBar": true,
   "skip_h1_title": false,
   "title_cell": "Table of Contents",
   "title_sidebar": "Contents",
   "toc_cell": false,
   "toc_position": {},
   "toc_section_display": true,
   "toc_window_display": false
  }
 },
 "nbformat": 4,
 "nbformat_minor": 5
}
